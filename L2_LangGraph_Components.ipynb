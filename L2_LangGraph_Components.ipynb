{
 "cells": [
  {
   "cell_type": "code",
   "execution_count": 1,
   "metadata": {},
   "outputs": [],
   "source": [
    "from dotenv import load_dotenv\n",
    "_ = load_dotenv()"
   ]
  },
  {
   "cell_type": "code",
   "execution_count": 2,
   "metadata": {},
   "outputs": [],
   "source": [
    "from langgraph.graph import StateGraph, END\n",
    "from typing import TypedDict, Annotated\n",
    "import operator\n",
    "from langchain_core.messages import AnyMessage, SystemMessage, HumanMessage, ToolMessage\n",
    "from langchain_openai import ChatOpenAI\n",
    "from langchain_community.tools.tavily_search import TavilySearchResults"
   ]
  },
  {
   "cell_type": "code",
   "execution_count": 3,
   "metadata": {},
   "outputs": [
    {
     "name": "stdout",
     "output_type": "stream",
     "text": [
      "<class 'langchain_community.tools.tavily_search.tool.TavilySearchResults'>\n",
      "tavily_search_results_json\n"
     ]
    }
   ],
   "source": [
    "tool = TavilySearchResults(max_results=4)\n",
    "print(type(tool))\n",
    "print(tool.name)"
   ]
  },
  {
   "cell_type": "code",
   "execution_count": 4,
   "metadata": {},
   "outputs": [],
   "source": [
    "# Agent State is a dictionary that contains the messages that the agent has received\n",
    "class AgentState(TypedDict):\n",
    "    messages: Annotated[list[AnyMessage], operator.add]"
   ]
  },
  {
   "cell_type": "code",
   "execution_count": 5,
   "metadata": {},
   "outputs": [],
   "source": [
    "class Agent:\n",
    "\n",
    "    def __init__(self, model, tools, system=\"\"):\n",
    "        self.system = system\n",
    "        # Initialize the graph with AgentState\n",
    "        graph = StateGraph(AgentState)\n",
    "        graph.add_node(\"llm\", self.call_openai)\n",
    "        graph.add_node(\"action\", self.take_action)\n",
    "        graph.add_conditional_edges(\n",
    "            \"llm\",\n",
    "            self.exists_action,\n",
    "            {True: \"action\", False: END}\n",
    "        )\n",
    "        graph.add_edge(\"action\", \"llm\")\n",
    "        graph.set_entry_point(\"llm\")\n",
    "        # When we have don all the setups and turn it in a langchain runnable\n",
    "        self.graph = graph.compile()\n",
    "        # Attribute into a dictionary to map name of the tool to the tool object\n",
    "        self.tools = {t.name: t for t in tools}\n",
    "        # Passing in list of tools to the model letting it know what tools are available to call\n",
    "        self.model = model.bind_tools(tools)\n",
    "\n",
    "    def exists_action(self, state: AgentState):\n",
    "        result = state['messages'][-1]\n",
    "        return len(result.tool_calls) > 0\n",
    "\n",
    "    def call_openai(self, state: AgentState):\n",
    "        messages = state['messages']\n",
    "        if self.system:\n",
    "            messages = [SystemMessage(content=self.system)] + messages\n",
    "        message = self.model.invoke(messages)\n",
    "        return {'messages': [message]}\n",
    "\n",
    "    def take_action(self, state: AgentState):\n",
    "        tool_calls = state['messages'][-1].tool_calls\n",
    "        results = []\n",
    "        for t in tool_calls:\n",
    "            print(f\"Calling: {t}\")\n",
    "            result = self.tools[t['name']].invoke(t['args'])\n",
    "            results.append(ToolMessage(tool_call_id=t['id'], name=t['name'], content=str(result)))\n",
    "        print(\"Back to the model!\")\n",
    "        return {'messages': results}"
   ]
  },
  {
   "cell_type": "code",
   "execution_count": 6,
   "metadata": {},
   "outputs": [],
   "source": [
    "prompt = \"\"\"You are a smart research assistant. Use the search engine to look up information. \\\n",
    "You are allowed to make multiple calls (either together or in sequence). \\\n",
    "Only look up information when you are sure of what you want. \\\n",
    "If you need to look up some information before asking a follow up question, you are allowed to do that!\n",
    "\"\"\"\n",
    "model = ChatOpenAI(model=\"gpt-4-turbo\")\n",
    "abot = Agent(model, [tool], system=prompt)"
   ]
  },
  {
   "cell_type": "code",
   "execution_count": 10,
   "metadata": {},
   "outputs": [
    {
     "ename": "ImportError",
     "evalue": "DLL load failed while importing _graphviz: The specified module could not be found.",
     "output_type": "error",
     "traceback": [
      "\u001b[1;31m---------------------------------------------------------------------------\u001b[0m",
      "\u001b[1;31mImportError\u001b[0m                               Traceback (most recent call last)",
      "Cell \u001b[1;32mIn[10], line 2\u001b[0m\n\u001b[0;32m      1\u001b[0m \u001b[38;5;28;01mfrom\u001b[39;00m \u001b[38;5;21;01mIPython\u001b[39;00m\u001b[38;5;21;01m.\u001b[39;00m\u001b[38;5;21;01mdisplay\u001b[39;00m \u001b[38;5;28;01mimport\u001b[39;00m Image\n\u001b[1;32m----> 2\u001b[0m \u001b[38;5;28;01mimport\u001b[39;00m \u001b[38;5;21;01mpygraphviz\u001b[39;00m\n\u001b[0;32m      4\u001b[0m Image(abot\u001b[38;5;241m.\u001b[39mgraph\u001b[38;5;241m.\u001b[39mget_graph()\u001b[38;5;241m.\u001b[39mdraw_png())\n",
      "File \u001b[1;32mc:\\Users\\S91001333\\AI_Projects\\LangGraph\\.venv\\Lib\\site-packages\\pygraphviz\\__init__.py:24\u001b[0m\n\u001b[0;32m     19\u001b[0m             os\u001b[38;5;241m.\u001b[39madd_dll_directory(path)\n\u001b[0;32m     22\u001b[0m __version__ \u001b[38;5;241m=\u001b[39m \u001b[38;5;124m\"\u001b[39m\u001b[38;5;124m1.13\u001b[39m\u001b[38;5;124m\"\u001b[39m\n\u001b[1;32m---> 24\u001b[0m \u001b[38;5;28;01mfrom\u001b[39;00m \u001b[38;5;21;01m.\u001b[39;00m\u001b[38;5;21;01magraph\u001b[39;00m \u001b[38;5;28;01mimport\u001b[39;00m AGraph, Node, Edge, Attribute, ItemAttribute, DotError\n\u001b[0;32m     26\u001b[0m __all__ \u001b[38;5;241m=\u001b[39m [\u001b[38;5;124m\"\u001b[39m\u001b[38;5;124mAGraph\u001b[39m\u001b[38;5;124m\"\u001b[39m, \u001b[38;5;124m\"\u001b[39m\u001b[38;5;124mNode\u001b[39m\u001b[38;5;124m\"\u001b[39m, \u001b[38;5;124m\"\u001b[39m\u001b[38;5;124mEdge\u001b[39m\u001b[38;5;124m\"\u001b[39m, \u001b[38;5;124m\"\u001b[39m\u001b[38;5;124mAttribute\u001b[39m\u001b[38;5;124m\"\u001b[39m, \u001b[38;5;124m\"\u001b[39m\u001b[38;5;124mItemAttribute\u001b[39m\u001b[38;5;124m\"\u001b[39m, \u001b[38;5;124m\"\u001b[39m\u001b[38;5;124mDotError\u001b[39m\u001b[38;5;124m\"\u001b[39m]\n\u001b[0;32m     28\u001b[0m \u001b[38;5;28;01mfrom\u001b[39;00m \u001b[38;5;21;01m.\u001b[39;00m \u001b[38;5;28;01mimport\u001b[39;00m testing\n",
      "File \u001b[1;32mc:\\Users\\S91001333\\AI_Projects\\LangGraph\\.venv\\Lib\\site-packages\\pygraphviz\\agraph.py:16\u001b[0m\n\u001b[0;32m     13\u001b[0m \u001b[38;5;28;01mimport\u001b[39;00m \u001b[38;5;21;01mtempfile\u001b[39;00m\n\u001b[0;32m     14\u001b[0m \u001b[38;5;28;01mimport\u001b[39;00m \u001b[38;5;21;01mio\u001b[39;00m\n\u001b[1;32m---> 16\u001b[0m \u001b[38;5;28;01mfrom\u001b[39;00m \u001b[38;5;21;01m.\u001b[39;00m \u001b[38;5;28;01mimport\u001b[39;00m graphviz \u001b[38;5;28;01mas\u001b[39;00m gv\n\u001b[0;32m     18\u001b[0m _DEFAULT_ENCODING \u001b[38;5;241m=\u001b[39m \u001b[38;5;124m\"\u001b[39m\u001b[38;5;124mUTF-8\u001b[39m\u001b[38;5;124m\"\u001b[39m\n\u001b[0;32m     21\u001b[0m \u001b[38;5;28;01mclass\u001b[39;00m \u001b[38;5;21;01mPipeReader\u001b[39;00m(threading\u001b[38;5;241m.\u001b[39mThread):\n",
      "File \u001b[1;32mc:\\Users\\S91001333\\AI_Projects\\LangGraph\\.venv\\Lib\\site-packages\\pygraphviz\\graphviz.py:10\u001b[0m\n\u001b[0;32m      8\u001b[0m \u001b[38;5;66;03m# Import the low-level C/C++ module\u001b[39;00m\n\u001b[0;32m      9\u001b[0m \u001b[38;5;28;01mif\u001b[39;00m __package__ \u001b[38;5;129;01mor\u001b[39;00m \u001b[38;5;124m\"\u001b[39m\u001b[38;5;124m.\u001b[39m\u001b[38;5;124m\"\u001b[39m \u001b[38;5;129;01min\u001b[39;00m \u001b[38;5;18m__name__\u001b[39m:\n\u001b[1;32m---> 10\u001b[0m     \u001b[38;5;28;01mfrom\u001b[39;00m \u001b[38;5;21;01m.\u001b[39;00m \u001b[38;5;28;01mimport\u001b[39;00m _graphviz\n\u001b[0;32m     11\u001b[0m \u001b[38;5;28;01melse\u001b[39;00m:\n\u001b[0;32m     12\u001b[0m     \u001b[38;5;28;01mimport\u001b[39;00m \u001b[38;5;21;01m_graphviz\u001b[39;00m\n",
      "\u001b[1;31mImportError\u001b[0m: DLL load failed while importing _graphviz: The specified module could not be found."
     ]
    }
   ],
   "source": [
    "from IPython.display import Image\n",
    "\n",
    "Image(abot.graph.get_graph().draw_png())"
   ]
  },
  {
   "cell_type": "code",
   "execution_count": 11,
   "metadata": {},
   "outputs": [
    {
     "name": "stdout",
     "output_type": "stream",
     "text": [
      "Calling: {'name': 'tavily_search_results_json', 'args': {'query': 'current weather in San Francisco'}, 'id': 'call_IfovJOlHh0TrPkSiric0ZYDO'}\n",
      "Back to the model!\n"
     ]
    }
   ],
   "source": [
    "messages = [HumanMessage(content=\"What is the weather in sf?\")]\n",
    "result = abot.graph.invoke({\"messages\": messages})"
   ]
  },
  {
   "cell_type": "code",
   "execution_count": 12,
   "metadata": {},
   "outputs": [
    {
     "data": {
      "text/plain": [
       "{'messages': [HumanMessage(content='What is the weather in sf?'),\n",
       "  AIMessage(content='', additional_kwargs={'tool_calls': [{'id': 'call_IfovJOlHh0TrPkSiric0ZYDO', 'function': {'arguments': '{\"query\":\"current weather in San Francisco\"}', 'name': 'tavily_search_results_json'}, 'type': 'function'}]}, response_metadata={'token_usage': {'completion_tokens': 22, 'prompt_tokens': 153, 'total_tokens': 175}, 'model_name': 'gpt-4-turbo', 'system_fingerprint': 'fp_9b82693875', 'finish_reason': 'tool_calls', 'logprobs': None}, id='run-102a54a2-88d8-4c6c-a4d1-867fc239fc44-0', tool_calls=[{'name': 'tavily_search_results_json', 'args': {'query': 'current weather in San Francisco'}, 'id': 'call_IfovJOlHh0TrPkSiric0ZYDO'}]),\n",
       "  ToolMessage(content='[{\\'url\\': \\'https://www.weatherapi.com/\\', \\'content\\': \"{\\'location\\': {\\'name\\': \\'San Francisco\\', \\'region\\': \\'California\\', \\'country\\': \\'United States of America\\', \\'lat\\': 37.78, \\'lon\\': -122.42, \\'tz_id\\': \\'America/Los_Angeles\\', \\'localtime_epoch\\': 1717704950, \\'localtime\\': \\'2024-06-06 13:15\\'}, \\'current\\': {\\'last_updated_epoch\\': 1717704000, \\'last_updated\\': \\'2024-06-06 13:00\\', \\'temp_c\\': 17.8, \\'temp_f\\': 64.0, \\'is_day\\': 1, \\'condition\\': {\\'text\\': \\'Sunny\\', \\'icon\\': \\'//cdn.weatherapi.com/weather/64x64/day/113.png\\', \\'code\\': 1000}, \\'wind_mph\\': 12.5, \\'wind_kph\\': 20.2, \\'wind_degree\\': 290, \\'wind_dir\\': \\'WNW\\', \\'pressure_mb\\': 1012.0, \\'pressure_in\\': 29.89, \\'precip_mm\\': 0.0, \\'precip_in\\': 0.0, \\'humidity\\': 65, \\'cloud\\': 0, \\'feelslike_c\\': 17.8, \\'feelslike_f\\': 64.0, \\'windchill_c\\': 15.7, \\'windchill_f\\': 60.3, \\'heatindex_c\\': 15.8, \\'heatindex_f\\': 60.4, \\'dewpoint_c\\': 10.7, \\'dewpoint_f\\': 51.2, \\'vis_km\\': 14.0, \\'vis_miles\\': 8.0, \\'uv\\': 5.0, \\'gust_mph\\': 14.7, \\'gust_kph\\': 23.6}}\"}, {\\'url\\': \\'https://forecast.weather.gov/zipcity.php?inputstring=San+Francisco,CA\\', \\'content\\': \\'San Francisco CA 37.77°N 122.41°W (Elev. 131 ft) Last Update: 6:59 am PDT Jun 5, 2024. Forecast Valid: 7am PDT Jun 5, 2024-6pm PDT Jun 11, 2024 . Forecast Discussion . Additional Resources. Radar & Satellite Image. Hourly Weather Forecast. ... Severe Weather ; Current Outlook Maps ; Drought ; Fire Weather ; Fronts/Precipitation Maps ; Current ...\\'}, {\\'url\\': \\'https://www.weathertab.com/en/c/e/06/united-states/california/san-francisco/\\', \\'content\\': \\'Explore comprehensive June 2024 weather forecasts for San Francisco, including daily high and low temperatures, precipitation risks, and monthly temperature trends. Featuring detailed day-by-day forecasts, dynamic graphs of daily rain probabilities, and temperature trends to help you plan ahead. ... 21 67°F 52°F 19°C 11°C 06% 22 68°F 52°F ...\\'}, {\\'url\\': \\'https://forecast.weather.gov/zipcity.php?inputstring=KSFO\\', \\'content\\': \\'Current conditions at San Francisco, San Francisco International Airport (KSFO) Lat: 37.61961°NLon: ... 2024-6pm PDT Jun 10, 2024 . Forecast Discussion . Additional Resources. ... National Weather Service; San Francisco Bay Area, CA; 21 Grace Hopper Ave, Stop 5; Monterey, CA 93943-5505; Comments? Questions?\\'}]', name='tavily_search_results_json', tool_call_id='call_IfovJOlHh0TrPkSiric0ZYDO'),\n",
       "  AIMessage(content='The current weather in San Francisco is sunny with a temperature of 64°F (17.8°C). The wind is blowing from the west-northwest at 12.5 mph (20.2 kph), and the humidity is at 65%. The conditions are clear with no precipitation, and visibility is around 8 miles (14 kilometers).', response_metadata={'token_usage': {'completion_tokens': 72, 'prompt_tokens': 951, 'total_tokens': 1023}, 'model_name': 'gpt-4-turbo', 'system_fingerprint': 'fp_31a6c0accf', 'finish_reason': 'stop', 'logprobs': None}, id='run-bc57b8d9-42ab-4a69-9bb5-b9002a1cd78e-0')]}"
      ]
     },
     "execution_count": 12,
     "metadata": {},
     "output_type": "execute_result"
    }
   ],
   "source": [
    "result"
   ]
  },
  {
   "cell_type": "code",
   "execution_count": 13,
   "metadata": {},
   "outputs": [
    {
     "data": {
      "text/plain": [
       "'The current weather in San Francisco is sunny with a temperature of 64°F (17.8°C). The wind is blowing from the west-northwest at 12.5 mph (20.2 kph), and the humidity is at 65%. The conditions are clear with no precipitation, and visibility is around 8 miles (14 kilometers).'"
      ]
     },
     "execution_count": 13,
     "metadata": {},
     "output_type": "execute_result"
    }
   ],
   "source": [
    "result['messages'][-1].content"
   ]
  },
  {
   "cell_type": "code",
   "execution_count": 14,
   "metadata": {},
   "outputs": [
    {
     "name": "stdout",
     "output_type": "stream",
     "text": [
      "Calling: {'name': 'tavily_search_results_json', 'args': {'query': 'current weather in San Francisco'}, 'id': 'call_Hkl7qAppoUCso5QrFPvwvV4I'}\n",
      "Calling: {'name': 'tavily_search_results_json', 'args': {'query': 'current weather in Los Angeles'}, 'id': 'call_fjyS2pshaKyRQkhf7d0juABG'}\n",
      "Back to the model!\n"
     ]
    }
   ],
   "source": [
    "# Note that the results will happen in parallel\n",
    "# The weather in SF and LA will be fetched at the same time as they are independent and not related\n",
    "messages = [HumanMessage(content=\"What is the weather in SF and LA?\")]\n",
    "result = abot.graph.invoke({\"messages\": messages})"
   ]
  },
  {
   "cell_type": "code",
   "execution_count": 15,
   "metadata": {},
   "outputs": [
    {
     "data": {
      "text/plain": [
       "'The current weather is as follows:\\n\\n- **San Francisco**: \\n  - Temperature: 55.9°F (13.3°C)\\n  - Conditions: Partly cloudy\\n  - Humidity: 87%\\n  - Wind: NNW at 3.8 mph (6.1 kph)\\n\\n- **Los Angeles**:\\n  - Temperature: 61.0°F (16.1°C)\\n  - Conditions: Overcast\\n  - Humidity: 90%\\n  - Wind: N at 2.2 mph (3.6 kph)'"
      ]
     },
     "execution_count": 15,
     "metadata": {},
     "output_type": "execute_result"
    }
   ],
   "source": [
    "result['messages'][-1].content"
   ]
  },
  {
   "cell_type": "code",
   "execution_count": 16,
   "metadata": {},
   "outputs": [
    {
     "name": "stdout",
     "output_type": "stream",
     "text": [
      "Calling: {'name': 'tavily_search_results_json', 'args': {'query': '2024 Super Bowl winner'}, 'id': 'call_AE3GmC26FUSF63Nb4NhJCSMb'}\n",
      "Back to the model!\n",
      "Calling: {'name': 'tavily_search_results_json', 'args': {'query': 'GDP of Missouri 2023'}, 'id': 'call_Oe21A5aIaIMETzklS5Kpuc0e'}\n",
      "Back to the model!\n"
     ]
    }
   ],
   "source": [
    "# Note that the results will happen sequentially this time. \n",
    "# It is because it actually needs the result of the first query to make the second query\n",
    "query = \"Who won the super bowl in 2024? What is the GDP of state where the winning team is located?\" \n",
    "messages = [HumanMessage(content=query)]\n",
    "result = abot.graph.invoke({\"messages\": messages})"
   ]
  },
  {
   "cell_type": "code",
   "execution_count": 17,
   "metadata": {},
   "outputs": [
    {
     "data": {
      "text/plain": [
       "'The Kansas City Chiefs won the Super Bowl in 2024.\\n\\nThe Gross Domestic Product (GDP) of Missouri, the state where the Kansas City Chiefs are located, was approximately $344.12 billion in 2023.'"
      ]
     },
     "execution_count": 17,
     "metadata": {},
     "output_type": "execute_result"
    }
   ],
   "source": [
    "result['messages'][-1].content"
   ]
  },
  {
   "cell_type": "code",
   "execution_count": 18,
   "metadata": {},
   "outputs": [
    {
     "name": "stdout",
     "output_type": "stream",
     "text": [
      "[HumanMessage(content='Who won the super bowl in 2024? What is the GDP of state where the winning team is located?'), AIMessage(content='', additional_kwargs={'tool_calls': [{'id': 'call_AE3GmC26FUSF63Nb4NhJCSMb', 'function': {'arguments': '{\"query\":\"2024 Super Bowl winner\"}', 'name': 'tavily_search_results_json'}, 'type': 'function'}]}, response_metadata={'token_usage': {'completion_tokens': 22, 'prompt_tokens': 169, 'total_tokens': 191}, 'model_name': 'gpt-4-turbo', 'system_fingerprint': 'fp_31a6c0accf', 'finish_reason': 'tool_calls', 'logprobs': None}, id='run-3d4fcbc2-1cac-4b3d-9471-2b21ac958671-0', tool_calls=[{'name': 'tavily_search_results_json', 'args': {'query': '2024 Super Bowl winner'}, 'id': 'call_AE3GmC26FUSF63Nb4NhJCSMb'}]), ToolMessage(content='[{\\'url\\': \\'https://people.com/super-bowl-2024-full-recap-8572245\\', \\'content\\': \\'\"\\\\nTo make those dreams come true, an \"absolute army of people\" took the field to set up the elaborate stage as soon as the last play of the second quarter was completed.\\\\n49ers Lead 10-3 at the End of the First Half\\\\n49ers Lead 10-3 at the End of the First Half\\\\nThe action continued in the second quarter, with the San Francisco 49ers following their record-breaking field goal with a touchdown by Christian McCaffery.\\\\n Super Bowl 2024 Recap: The Kansas City Chiefs\\\\\\' Big Win, Taylor Swift\\\\\\'s Celebrations and All the Highlights\\\\nThe Kansas City Chiefs beat the San Francisco 49ers and Usher wowed with a hit-filled halftime show\\\\nTim Nwachukwu/Getty\\\\nSuper Bowl 2024 is complete — and the Kansas City Chiefs reigned supreme, beating the San Francisco 49ers 25-22.\\\\n The father and son were all smiles as they posed for photos in their Chiefs jerseys: Paul in a \"58,\" for linebacker and defensive end Derrick Vincent Thomas, and Jack in \"22,\" the number worn by Trent McDuffie.\\\\n49ers Wives Claire Kittle and Kristin Juszczyk Share Their Super Bowl Style\\\\n49ers Wives Claire Kittle and Kristin Juszczyk Share Their Super Bowl Style\\\\nClaire Kittle\\\\nClaire Kittle, the wife of San Francisco 49ers tight end George Kittle, is bringing her own special shine to her Super Bowl outfit. Reba McEntire Blows the Roof Off Allegiant Stadium with \\\\\\'The Star-Spangled Banner\\\\\\'\\\\nReba McEntire Blows the Roof Off Allegiant Stadium with \\\\\\'The Star-Spangled Banner\\\\\\'\\\\nCBS\\\\nGood luck to the actual players in the Super Bowl because the pre-game performers have already blown the fans at Allegiant Stadium away.\\\\n PEOPLE covered all the action live, from the intense game Allegiant Stadium in Las Vegas, to the star-filled commercials, to Usher\\\\\\'s hit-filled halftime show and every Taylor Swift sighting in between.\\\\nRead here for a full recap of the pre-show highlights, the big game moments and all the behind-the-scene insights you can only get from PEOPLE.\\\\n\\'}, {\\'url\\': \\'https://www.espn.com/nfl/story/_/id/39480722/49ers-chiefs-live-super-bowl-lviii-updates-moments-highlights\\', \\'content\\': \"With a relentless defense and opportune plays by their star quarterback -- including a pair of gutsy overtime scrambles -- the Chiefs won their third Super Bowl in five years in a 25-22 overtime victory against the San Francisco 49ers in only the second overtime game in Super Bowl history.\\\\n Staff\\\\nTaylor Swift supports Travis Kelce, chugs drink at Super Bowl LVIII10hTory Barron\\\\nAfter posting a losing record in December, the Chiefs embraced an underdog, villain mentality throughout the postseason, upsetting three teams en route to their second consecutive Super Bowl title, becoming the ninth team to repeat as Super Bowl champions and first since the 2004 New England Patriots.\\\\n ESPN\\\\nSuper Bowl 2024 - Highlights from Chiefs\\' win vs. 49ers\\\\nMike Tannenbaum and Tim Hasselbeck react to the Chiefs\\' thrilling overtime victory over the 49ers in the Super Bowl. The 49ers had the ball with 2:51 to go in a tied game, but a signature Steve Spagnuolo blitz on third down late in the fourth quarter forced a 49ers field goal. Led by their captains, most of the Chiefs arrived to Allegiant Stadium in Las Vegas on Sunday in all black, signaling a steely resolve to upset Brock Purdy and the NFC\\'s best offensive ensemble.\\\\n\"}, {\\'url\\': \\'https://www.cbssports.com/nfl/news/2024-super-bowl-chiefs-vs-49ers-score-patrick-mahomes-leads-ot-comeback-as-k-c-wins-back-to-back-titles/live/\\', \\'content\\': \"The championship-winning drive, which included a fourth-and-1 scramble from Mahomes and a clutch 7-yard catch from tight end Travis Kelce, was a must-score for K.C. The NFL\\'s new playoff overtime rules -- both teams are guaranteed at least one possession in the extra period -- were in effect for the first time, and the Chiefs needed to answer the Niners\\' field goal.\\\\n Held out of the end zone until that point, Kansas City grabbed its first lead of the game at 13-10.\\\\nJennings\\' touchdown receiving (followed by a missed extra point) concluded a 75-yard drive that put the Niners back on top, 16-13, as the wideout joined former Philadelphia Eagles quarterback Nick Foles as the only players to throw and catch a touchdown in a Super Bowl.\\\\n He spread the ball around -- eight pass-catchers had at least two receptions -- slowly but surely overcoming a threatening 49ers defense that knocked him off his spot consistently in the first half.\\\\nMahomes, with his third Super Bowl MVP, now sits alongside Tom Brady (five) and Joe Montana (three) atop the mountain while becoming just the third player to win the award back-to-back, joining Bart Starr (I-II) and Terry Bradshaw (XIII-XIV).\\\\n The muffed punt that bounced off of cornerback Darrell Luter Jr.\\'s ankle was also the big break that the Chiefs needed as they scored on the very next play to take the lead for the first time in the game. College Pick\\'em\\\\nA Daily SportsLine Betting Podcast\\\\nNFL Playoff Time!\\\\n2024 Super Bowl, Chiefs vs. 49ers score: Patrick Mahomes leads OT comeback as K.C. wins back-to-back titles\\\\nCall it a dynasty; the Chiefs are the first team to win consecutive Super Bowls since 2003-04\\\\nThe Kansas City Chiefs are Super Bowl champions, again.\"}, {\\'url\\': \\'https://apnews.com/live/super-bowl-2024-updates\\', \\'content\\': \\'Throw in the fact that Chiefs coach Andy Reid will be in his fifth Super Bowl, the third most in NFL history, and has a chance to win a third ring, and the knowledge on the Kansas City sideline will be an advantage too big for the 49ers to overcome.\\\\n She performed in Japan on Saturday night before a flight across nine time zones and the international date line to reach the U.S.\\\\nRihanna performs during halftime of the NFL Super Bowl 57 football game between the Philadelphia Eagles and the Kansas City Chiefs, Sunday, Feb. 12, 2023, in Glendale, Ariz. (AP Photo/David J. Phillip)\\\\n After the teams take the field, Post Malone will perform “America the Beautiful” and Reba McEntire will sing “The Star-Spangled Banner.”\\\\nSan Francisco 49ers quarterback Brock Purdy (13) warms up before the NFL Super Bowl 58 football game against the Kansas City Chiefs, Sunday, Feb. 11, 2024, in Las Vegas. He was also the referee when the Chiefs beat the 49ers in the Super Bowl four years ago — and when the Rams beat the Saints in the 2019 NFC championship game after an infamous missed call.\\\\n Purdy’s comeback from the injury to his throwing arm suffered in last season’s NFC championship loss to the Philadelphia Eagles has been part of the storybook start to his career that started as Mr. Irrelevant as the 262nd pick in the 2022 draft.\\\\n\\'}]', name='tavily_search_results_json', tool_call_id='call_AE3GmC26FUSF63Nb4NhJCSMb'), AIMessage(content='', additional_kwargs={'tool_calls': [{'id': 'call_Oe21A5aIaIMETzklS5Kpuc0e', 'function': {'arguments': '{\"query\":\"GDP of Missouri 2023\"}', 'name': 'tavily_search_results_json'}, 'type': 'function'}]}, response_metadata={'token_usage': {'completion_tokens': 24, 'prompt_tokens': 1808, 'total_tokens': 1832}, 'model_name': 'gpt-4-turbo', 'system_fingerprint': 'fp_31a6c0accf', 'finish_reason': 'tool_calls', 'logprobs': None}, id='run-8924b728-4dfb-4737-8d71-69c9919d1da2-0', tool_calls=[{'name': 'tavily_search_results_json', 'args': {'query': 'GDP of Missouri 2023'}, 'id': 'call_Oe21A5aIaIMETzklS5Kpuc0e'}]), ToolMessage(content='[{\\'url\\': \\'https://usafacts.org/topics/economy/state/missouri/\\', \\'content\\': \"In the 3rd quarter of 2023, the real GDP for Missouri was $423.6 billion in goods and services per year. Gross domestic product (GDP) is the primary measure of an area\\'s economy. Real GDP adjusts the measure for inflation allowing for comparison across time. While primarily attributed at the national level, it can also be applied to states as ...\"}, {\\'url\\': \\'https://www.statista.com/statistics/187908/gdp-of-the-us-federal-state-of-missouri-since-1997/\\', \\'content\\': \"In 2023, the real gross domestic product (GDP) of Missouri was 344.12 billion U.S. dollars. This is an increase from the previous year, when the state\\'s GDP stood at 336.63 billion U.S. dollars ...\"}, {\\'url\\': \\'https://archive.org/download/2023RegProfileMoOvr/2023RegProfileMoOvr.pdf\\', \\'content\\': \"In April 2023, Missouri\\'s seasonally adjusted labor force totaled 3,100,000 with a labor force participation rate (LFPR) of 63.2 percent. In April 2023, 61.6 percent or 3,022,087 of Missouri\\'s civilian non-institutionalized population were employed and only 2.4 percent of labor force or 77,913 were unemployed.\"}, {\\'url\\': \\'https://www.bea.gov/data/gdp/gdp-state\\', \\'content\\': \\'Gross Domestic Product by State and Personal Income by State, 4th Quarter 2023 and Preliminary 2023. Real gross domestic product (GDP) increased in all 50 states and the District of Columbia in the fourth quarter of 2023, with the percent change ranging from 6.7 percent in Nevada to 0.2 percent in Nebraska. Current Release.\\'}]', name='tavily_search_results_json', tool_call_id='call_Oe21A5aIaIMETzklS5Kpuc0e'), AIMessage(content='The Kansas City Chiefs won the Super Bowl in 2024.\\n\\nThe Gross Domestic Product (GDP) of Missouri, the state where the Kansas City Chiefs are located, was approximately $344.12 billion in 2023.', response_metadata={'token_usage': {'completion_tokens': 47, 'prompt_tokens': 2253, 'total_tokens': 2300}, 'model_name': 'gpt-4-turbo', 'system_fingerprint': 'fp_31a6c0accf', 'finish_reason': 'stop', 'logprobs': None}, id='run-d933ae92-1318-4d78-ad52-d324270968ed-0')]\n"
     ]
    },
    {
     "ename": "",
     "evalue": "",
     "output_type": "error",
     "traceback": [
      "\u001b[1;31mThe Kernel crashed while executing code in the current cell or a previous cell. \n",
      "\u001b[1;31mPlease review the code in the cell(s) to identify a possible cause of the failure. \n",
      "\u001b[1;31mClick <a href='https://aka.ms/vscodeJupyterKernelCrash'>here</a> for more info. \n",
      "\u001b[1;31mView Jupyter <a href='command:jupyter.viewOutput'>log</a> for further details."
     ]
    }
   ],
   "source": [
    "print(result['messages'])"
   ]
  },
  {
   "cell_type": "code",
   "execution_count": null,
   "metadata": {},
   "outputs": [],
   "source": []
  },
  {
   "cell_type": "code",
   "execution_count": null,
   "metadata": {},
   "outputs": [],
   "source": []
  }
 ],
 "metadata": {
  "kernelspec": {
   "display_name": ".venv",
   "language": "python",
   "name": "python3"
  },
  "language_info": {
   "codemirror_mode": {
    "name": "ipython",
    "version": 3
   },
   "file_extension": ".py",
   "mimetype": "text/x-python",
   "name": "python",
   "nbconvert_exporter": "python",
   "pygments_lexer": "ipython3",
   "version": "3.12.3"
  }
 },
 "nbformat": 4,
 "nbformat_minor": 2
}
