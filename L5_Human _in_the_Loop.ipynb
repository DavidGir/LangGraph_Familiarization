{
 "cells": [
  {
   "cell_type": "code",
   "execution_count": 1,
   "metadata": {},
   "outputs": [],
   "source": [
    "from dotenv import load_dotenv\n",
    "\n",
    "_ = load_dotenv()"
   ]
  },
  {
   "cell_type": "code",
   "execution_count": 2,
   "metadata": {},
   "outputs": [],
   "source": [
    "from langgraph.graph import StateGraph, END\n",
    "from typing import TypedDict, Annotated\n",
    "import operator\n",
    "from langchain_core.messages import AnyMessage, SystemMessage, HumanMessage, ToolMessage\n",
    "from langchain_openai import ChatOpenAI\n",
    "from langchain_community.tools.tavily_search import TavilySearchResults\n",
    "from langgraph.checkpoint.sqlite import SqliteSaver\n",
    "\n",
    "memory = SqliteSaver.from_conn_string(\":memory:\")"
   ]
  },
  {
   "cell_type": "code",
   "execution_count": 4,
   "metadata": {},
   "outputs": [],
   "source": [
    "from uuid import uuid4\n",
    "from langchain_core.messages import AnyMessage, SystemMessage, HumanMessage, AIMessage\n",
    "\n",
    "\"\"\"\n",
    "In previous examples we've annotated the `messages` state key\n",
    "with the default `operator.add` or `+` reducer, which always\n",
    "appends new messages to the end of the existing messages array.\n",
    "\n",
    "Now, to support replacing existing messages, we annotate the\n",
    "`messages` key with a customer reducer function, which replaces\n",
    "messages with the same `id`, and appends them otherwise.\n",
    "\"\"\"\n",
    "def reduce_messages(left: list[AnyMessage], right: list[AnyMessage]) -> list[AnyMessage]:\n",
    "    # assign ids to messages that don't have them\n",
    "    for message in right:\n",
    "        if not message.id:\n",
    "            message.id = str(uuid4())\n",
    "    # merge the new messages with the existing messages\n",
    "    merged = left.copy()\n",
    "    for message in right:\n",
    "        for i, existing in enumerate(merged):\n",
    "            # replace any existing messages with the same id\n",
    "            if existing.id == message.id:\n",
    "                merged[i] = message\n",
    "                break\n",
    "        else:\n",
    "            # append any new messages to the end\n",
    "            merged.append(message)\n",
    "    return merged\n",
    "\n",
    "class AgentState(TypedDict):\n",
    "    messages: Annotated[list[AnyMessage], reduce_messages]"
   ]
  },
  {
   "cell_type": "code",
   "execution_count": 3,
   "metadata": {},
   "outputs": [],
   "source": [
    "tool = TavilySearchResults(max_results=2)"
   ]
  },
  {
   "cell_type": "markdown",
   "metadata": {},
   "source": [
    "# Manual human approval"
   ]
  },
  {
   "cell_type": "code",
   "execution_count": 5,
   "metadata": {},
   "outputs": [],
   "source": [
    "class Agent:\n",
    "    def __init__(self, model, tools, system=\"\", checkpointer=None):\n",
    "        self.system = system\n",
    "        graph = StateGraph(AgentState)\n",
    "        graph.add_node(\"llm\", self.call_openai)\n",
    "        graph.add_node(\"action\", self.take_action)\n",
    "        graph.add_conditional_edges(\"llm\", self.exists_action, {True: \"action\", False: END})\n",
    "        graph.add_edge(\"action\", \"llm\")\n",
    "        graph.set_entry_point(\"llm\")\n",
    "        # In addition to passing the checkpointer we also pass am interrupt before the action node\n",
    "        # Adds manual approval before taking action (running the tool)\n",
    "        self.graph = graph.compile(\n",
    "            checkpointer=checkpointer,\n",
    "            interrupt_before=[\"action\"]\n",
    "        )\n",
    "        self.tools = {t.name: t for t in tools}\n",
    "        self.model = model.bind_tools(tools)\n",
    "\n",
    "    def call_openai(self, state: AgentState):\n",
    "        messages = state['messages']\n",
    "        if self.system:\n",
    "            messages = [SystemMessage(content=self.system)] + messages\n",
    "        message = self.model.invoke(messages)\n",
    "        return {'messages': [message]}\n",
    "\n",
    "    def exists_action(self, state: AgentState):\n",
    "        print(state)\n",
    "        result = state['messages'][-1]\n",
    "        return len(result.tool_calls) > 0\n",
    "\n",
    "    def take_action(self, state: AgentState):\n",
    "        tool_calls = state['messages'][-1].tool_calls\n",
    "        results = []\n",
    "        for t in tool_calls:\n",
    "            print(f\"Calling: {t}\")\n",
    "            result = self.tools[t['name']].invoke(t['args'])\n",
    "            results.append(ToolMessage(tool_call_id=t['id'], name=t['name'], content=str(result)))\n",
    "        print(\"Back to the model!\")\n",
    "        return {'messages': results}"
   ]
  },
  {
   "cell_type": "code",
   "execution_count": 6,
   "metadata": {},
   "outputs": [],
   "source": [
    "prompt = \"\"\"You are a smart research assistant. Use the search engine to look up information. \\\n",
    "You are allowed to make multiple calls (either together or in sequence). \\\n",
    "Only look up information when you are sure of what you want. \\\n",
    "If you need to look up some information before asking a follow up question, you are allowed to do that!\n",
    "\"\"\"\n",
    "model = ChatOpenAI(model=\"gpt-3.5-turbo\")\n",
    "abot = Agent(model, [tool], system=prompt, .checkpointer=memory)"
   ]
  },
  {
   "cell_type": "code",
   "execution_count": 7,
   "metadata": {},
   "outputs": [
    {
     "name": "stdout",
     "output_type": "stream",
     "text": [
      "{'messages': [HumanMessage(content='Whats the weather in SF?', id='50437e6e-186e-477d-9cba-71733be987d8'), AIMessage(content='', additional_kwargs={'tool_calls': [{'id': 'call_WmfKiJfGrEtFiDrZzYP8Jdzx', 'function': {'arguments': '{\"query\":\"current weather in San Francisco\"}', 'name': 'tavily_search_results_json'}, 'type': 'function'}]}, response_metadata={'token_usage': {'completion_tokens': 22, 'prompt_tokens': 152, 'total_tokens': 174}, 'model_name': 'gpt-3.5-turbo', 'system_fingerprint': None, 'finish_reason': 'tool_calls', 'logprobs': None}, id='run-b605fc47-7a8e-44ce-b561-638318c55f38-0', tool_calls=[{'name': 'tavily_search_results_json', 'args': {'query': 'current weather in San Francisco'}, 'id': 'call_WmfKiJfGrEtFiDrZzYP8Jdzx'}])]}\n",
      "{'messages': [AIMessage(content='', additional_kwargs={'tool_calls': [{'id': 'call_WmfKiJfGrEtFiDrZzYP8Jdzx', 'function': {'arguments': '{\"query\":\"current weather in San Francisco\"}', 'name': 'tavily_search_results_json'}, 'type': 'function'}]}, response_metadata={'token_usage': {'completion_tokens': 22, 'prompt_tokens': 152, 'total_tokens': 174}, 'model_name': 'gpt-3.5-turbo', 'system_fingerprint': None, 'finish_reason': 'tool_calls', 'logprobs': None}, id='run-b605fc47-7a8e-44ce-b561-638318c55f38-0', tool_calls=[{'name': 'tavily_search_results_json', 'args': {'query': 'current weather in San Francisco'}, 'id': 'call_WmfKiJfGrEtFiDrZzYP8Jdzx'}])]}\n"
     ]
    }
   ],
   "source": [
    "messages = [HumanMessage(content=\"Whats the weather in SF?\")]\n",
    "thread = {\"configurable\": {\"thread_id\": \"1\"}}\n",
    "for event in abot.graph.stream({\"messages\": messages}, thread):\n",
    "    for v in event.values():\n",
    "        print(v)"
   ]
  },
  {
   "cell_type": "code",
   "execution_count": 8,
   "metadata": {},
   "outputs": [
    {
     "data": {
      "text/plain": [
       "StateSnapshot(values={'messages': [HumanMessage(content='Whats the weather in SF?', id='50437e6e-186e-477d-9cba-71733be987d8'), AIMessage(content='', additional_kwargs={'tool_calls': [{'function': {'arguments': '{\"query\":\"current weather in San Francisco\"}', 'name': 'tavily_search_results_json'}, 'id': 'call_WmfKiJfGrEtFiDrZzYP8Jdzx', 'type': 'function'}]}, response_metadata={'finish_reason': 'tool_calls', 'logprobs': None, 'model_name': 'gpt-3.5-turbo', 'system_fingerprint': None, 'token_usage': {'completion_tokens': 22, 'prompt_tokens': 152, 'total_tokens': 174}}, id='run-b605fc47-7a8e-44ce-b561-638318c55f38-0', tool_calls=[{'name': 'tavily_search_results_json', 'args': {'query': 'current weather in San Francisco'}, 'id': 'call_WmfKiJfGrEtFiDrZzYP8Jdzx'}])]}, next=('action',), config={'configurable': {'thread_id': '1', 'thread_ts': '1ef24d99-1ae8-60d9-8001-12f38d6fc8da'}}, metadata={'source': 'loop', 'step': 1, 'writes': {'llm': {'messages': [AIMessage(content='', additional_kwargs={'tool_calls': [{'function': {'arguments': '{\"query\":\"current weather in San Francisco\"}', 'name': 'tavily_search_results_json'}, 'id': 'call_WmfKiJfGrEtFiDrZzYP8Jdzx', 'type': 'function'}]}, response_metadata={'finish_reason': 'tool_calls', 'logprobs': None, 'model_name': 'gpt-3.5-turbo', 'system_fingerprint': None, 'token_usage': {'completion_tokens': 22, 'prompt_tokens': 152, 'total_tokens': 174}}, id='run-b605fc47-7a8e-44ce-b561-638318c55f38-0', tool_calls=[{'name': 'tavily_search_results_json', 'args': {'query': 'current weather in San Francisco'}, 'id': 'call_WmfKiJfGrEtFiDrZzYP8Jdzx'}])]}}}, created_at='2024-06-07T14:23:54.241045+00:00', parent_config={'configurable': {'thread_id': '1', 'thread_ts': '1ef24d99-1045-6393-8000-01771c26a116'}})"
      ]
     },
     "execution_count": 8,
     "metadata": {},
     "output_type": "execute_result"
    }
   ],
   "source": [
    "abot.graph.get_state(thread)"
   ]
  },
  {
   "cell_type": "code",
   "execution_count": 9,
   "metadata": {},
   "outputs": [
    {
     "data": {
      "text/plain": [
       "('action',)"
      ]
     },
     "execution_count": 9,
     "metadata": {},
     "output_type": "execute_result"
    }
   ],
   "source": [
    "# Indicates the node that is going to be called next (the action node)\n",
    "abot.graph.get_state(thread).next"
   ]
  },
  {
   "cell_type": "markdown",
   "metadata": {},
   "source": [
    "# Continue after interrupt"
   ]
  },
  {
   "cell_type": "code",
   "execution_count": 10,
   "metadata": {},
   "outputs": [
    {
     "name": "stdout",
     "output_type": "stream",
     "text": [
      "Calling: {'name': 'tavily_search_results_json', 'args': {'query': 'current weather in San Francisco'}, 'id': 'call_WmfKiJfGrEtFiDrZzYP8Jdzx'}\n",
      "Back to the model!\n",
      "{'messages': [ToolMessage(content='[{\\'url\\': \\'https://www.weatherapi.com/\\', \\'content\\': \"{\\'location\\': {\\'name\\': \\'San Francisco\\', \\'region\\': \\'California\\', \\'country\\': \\'United States of America\\', \\'lat\\': 37.78, \\'lon\\': -122.42, \\'tz_id\\': \\'America/Los_Angeles\\', \\'localtime_epoch\\': 1717770335, \\'localtime\\': \\'2024-06-07 7:25\\'}, \\'current\\': {\\'last_updated_epoch\\': 1717769700, \\'last_updated\\': \\'2024-06-07 07:15\\', \\'temp_c\\': 13.9, \\'temp_f\\': 57.0, \\'is_day\\': 1, \\'condition\\': {\\'text\\': \\'Partly cloudy\\', \\'icon\\': \\'//cdn.weatherapi.com/weather/64x64/day/116.png\\', \\'code\\': 1003}, \\'wind_mph\\': 5.6, \\'wind_kph\\': 9.0, \\'wind_degree\\': 40, \\'wind_dir\\': \\'NE\\', \\'pressure_mb\\': 1010.0, \\'pressure_in\\': 29.82, \\'precip_mm\\': 0.0, \\'precip_in\\': 0.0, \\'humidity\\': 93, \\'cloud\\': 75, \\'feelslike_c\\': 13.2, \\'feelslike_f\\': 55.7, \\'windchill_c\\': 10.4, \\'windchill_f\\': 50.8, \\'heatindex_c\\': 11.7, \\'heatindex_f\\': 53.1, \\'dewpoint_c\\': 9.1, \\'dewpoint_f\\': 48.3, \\'vis_km\\': 11.0, \\'vis_miles\\': 6.0, \\'uv\\': 4.0, \\'gust_mph\\': 9.5, \\'gust_kph\\': 15.3}}\"}, {\\'url\\': \\'https://forecast.weather.gov/zipcity.php?inputstring=San+Francisco,CA\\', \\'content\\': \\'San Francisco CA 37.77°N 122.41°W (Elev. 131 ft) Last Update: 1:27 pm PDT Jun 6, 2024. Forecast Valid: 4pm PDT Jun 6, 2024-6pm PDT Jun 13, 2024 . Forecast Discussion . Additional Resources. Radar & Satellite Image. Hourly Weather Forecast. ... Severe Weather ; Current Outlook Maps ; Drought ; Fire Weather ; Fronts/Precipitation Maps ; Current ...\\'}]', name='tavily_search_results_json', id='b9568ae7-5fae-4cce-bd75-4afe9f7d1179', tool_call_id='call_WmfKiJfGrEtFiDrZzYP8Jdzx')]}\n",
      "{'messages': [HumanMessage(content='Whats the weather in SF?', id='50437e6e-186e-477d-9cba-71733be987d8'), AIMessage(content='', additional_kwargs={'tool_calls': [{'function': {'arguments': '{\"query\":\"current weather in San Francisco\"}', 'name': 'tavily_search_results_json'}, 'id': 'call_WmfKiJfGrEtFiDrZzYP8Jdzx', 'type': 'function'}]}, response_metadata={'finish_reason': 'tool_calls', 'logprobs': None, 'model_name': 'gpt-3.5-turbo', 'system_fingerprint': None, 'token_usage': {'completion_tokens': 22, 'prompt_tokens': 152, 'total_tokens': 174}}, id='run-b605fc47-7a8e-44ce-b561-638318c55f38-0', tool_calls=[{'name': 'tavily_search_results_json', 'args': {'query': 'current weather in San Francisco'}, 'id': 'call_WmfKiJfGrEtFiDrZzYP8Jdzx'}]), ToolMessage(content='[{\\'url\\': \\'https://www.weatherapi.com/\\', \\'content\\': \"{\\'location\\': {\\'name\\': \\'San Francisco\\', \\'region\\': \\'California\\', \\'country\\': \\'United States of America\\', \\'lat\\': 37.78, \\'lon\\': -122.42, \\'tz_id\\': \\'America/Los_Angeles\\', \\'localtime_epoch\\': 1717770335, \\'localtime\\': \\'2024-06-07 7:25\\'}, \\'current\\': {\\'last_updated_epoch\\': 1717769700, \\'last_updated\\': \\'2024-06-07 07:15\\', \\'temp_c\\': 13.9, \\'temp_f\\': 57.0, \\'is_day\\': 1, \\'condition\\': {\\'text\\': \\'Partly cloudy\\', \\'icon\\': \\'//cdn.weatherapi.com/weather/64x64/day/116.png\\', \\'code\\': 1003}, \\'wind_mph\\': 5.6, \\'wind_kph\\': 9.0, \\'wind_degree\\': 40, \\'wind_dir\\': \\'NE\\', \\'pressure_mb\\': 1010.0, \\'pressure_in\\': 29.82, \\'precip_mm\\': 0.0, \\'precip_in\\': 0.0, \\'humidity\\': 93, \\'cloud\\': 75, \\'feelslike_c\\': 13.2, \\'feelslike_f\\': 55.7, \\'windchill_c\\': 10.4, \\'windchill_f\\': 50.8, \\'heatindex_c\\': 11.7, \\'heatindex_f\\': 53.1, \\'dewpoint_c\\': 9.1, \\'dewpoint_f\\': 48.3, \\'vis_km\\': 11.0, \\'vis_miles\\': 6.0, \\'uv\\': 4.0, \\'gust_mph\\': 9.5, \\'gust_kph\\': 15.3}}\"}, {\\'url\\': \\'https://forecast.weather.gov/zipcity.php?inputstring=San+Francisco,CA\\', \\'content\\': \\'San Francisco CA 37.77°N 122.41°W (Elev. 131 ft) Last Update: 1:27 pm PDT Jun 6, 2024. Forecast Valid: 4pm PDT Jun 6, 2024-6pm PDT Jun 13, 2024 . Forecast Discussion . Additional Resources. Radar & Satellite Image. Hourly Weather Forecast. ... Severe Weather ; Current Outlook Maps ; Drought ; Fire Weather ; Fronts/Precipitation Maps ; Current ...\\'}]', name='tavily_search_results_json', id='b9568ae7-5fae-4cce-bd75-4afe9f7d1179', tool_call_id='call_WmfKiJfGrEtFiDrZzYP8Jdzx'), AIMessage(content='The current weather in San Francisco is partly cloudy with a temperature of 57.0°F (13.9°C). The wind speed is 5.6 mph coming from the northeast. The humidity is at 93%, and the visibility is 6.0 miles. Let me know if you need more details!', response_metadata={'token_usage': {'completion_tokens': 65, 'prompt_tokens': 731, 'total_tokens': 796}, 'model_name': 'gpt-3.5-turbo', 'system_fingerprint': None, 'finish_reason': 'stop', 'logprobs': None}, id='run-0bb96e0d-7ab9-403d-8b51-eda200ff7457-0')]}\n",
      "{'messages': [AIMessage(content='The current weather in San Francisco is partly cloudy with a temperature of 57.0°F (13.9°C). The wind speed is 5.6 mph coming from the northeast. The humidity is at 93%, and the visibility is 6.0 miles. Let me know if you need more details!', response_metadata={'token_usage': {'completion_tokens': 65, 'prompt_tokens': 731, 'total_tokens': 796}, 'model_name': 'gpt-3.5-turbo', 'system_fingerprint': None, 'finish_reason': 'stop', 'logprobs': None}, id='run-0bb96e0d-7ab9-403d-8b51-eda200ff7457-0')]}\n"
     ]
    }
   ],
   "source": [
    "for event in abot.graph.stream(None, thread):\n",
    "    for v in event.values():\n",
    "        print(v)"
   ]
  },
  {
   "cell_type": "code",
   "execution_count": 11,
   "metadata": {},
   "outputs": [
    {
     "data": {
      "text/plain": [
       "StateSnapshot(values={'messages': [HumanMessage(content='Whats the weather in SF?', id='50437e6e-186e-477d-9cba-71733be987d8'), AIMessage(content='', additional_kwargs={'tool_calls': [{'function': {'arguments': '{\"query\":\"current weather in San Francisco\"}', 'name': 'tavily_search_results_json'}, 'id': 'call_WmfKiJfGrEtFiDrZzYP8Jdzx', 'type': 'function'}]}, response_metadata={'finish_reason': 'tool_calls', 'logprobs': None, 'model_name': 'gpt-3.5-turbo', 'system_fingerprint': None, 'token_usage': {'completion_tokens': 22, 'prompt_tokens': 152, 'total_tokens': 174}}, id='run-b605fc47-7a8e-44ce-b561-638318c55f38-0', tool_calls=[{'name': 'tavily_search_results_json', 'args': {'query': 'current weather in San Francisco'}, 'id': 'call_WmfKiJfGrEtFiDrZzYP8Jdzx'}]), ToolMessage(content='[{\\'url\\': \\'https://www.weatherapi.com/\\', \\'content\\': \"{\\'location\\': {\\'name\\': \\'San Francisco\\', \\'region\\': \\'California\\', \\'country\\': \\'United States of America\\', \\'lat\\': 37.78, \\'lon\\': -122.42, \\'tz_id\\': \\'America/Los_Angeles\\', \\'localtime_epoch\\': 1717770335, \\'localtime\\': \\'2024-06-07 7:25\\'}, \\'current\\': {\\'last_updated_epoch\\': 1717769700, \\'last_updated\\': \\'2024-06-07 07:15\\', \\'temp_c\\': 13.9, \\'temp_f\\': 57.0, \\'is_day\\': 1, \\'condition\\': {\\'text\\': \\'Partly cloudy\\', \\'icon\\': \\'//cdn.weatherapi.com/weather/64x64/day/116.png\\', \\'code\\': 1003}, \\'wind_mph\\': 5.6, \\'wind_kph\\': 9.0, \\'wind_degree\\': 40, \\'wind_dir\\': \\'NE\\', \\'pressure_mb\\': 1010.0, \\'pressure_in\\': 29.82, \\'precip_mm\\': 0.0, \\'precip_in\\': 0.0, \\'humidity\\': 93, \\'cloud\\': 75, \\'feelslike_c\\': 13.2, \\'feelslike_f\\': 55.7, \\'windchill_c\\': 10.4, \\'windchill_f\\': 50.8, \\'heatindex_c\\': 11.7, \\'heatindex_f\\': 53.1, \\'dewpoint_c\\': 9.1, \\'dewpoint_f\\': 48.3, \\'vis_km\\': 11.0, \\'vis_miles\\': 6.0, \\'uv\\': 4.0, \\'gust_mph\\': 9.5, \\'gust_kph\\': 15.3}}\"}, {\\'url\\': \\'https://forecast.weather.gov/zipcity.php?inputstring=San+Francisco,CA\\', \\'content\\': \\'San Francisco CA 37.77°N 122.41°W (Elev. 131 ft) Last Update: 1:27 pm PDT Jun 6, 2024. Forecast Valid: 4pm PDT Jun 6, 2024-6pm PDT Jun 13, 2024 . Forecast Discussion . Additional Resources. Radar & Satellite Image. Hourly Weather Forecast. ... Severe Weather ; Current Outlook Maps ; Drought ; Fire Weather ; Fronts/Precipitation Maps ; Current ...\\'}]', name='tavily_search_results_json', id='b9568ae7-5fae-4cce-bd75-4afe9f7d1179', tool_call_id='call_WmfKiJfGrEtFiDrZzYP8Jdzx'), AIMessage(content='The current weather in San Francisco is partly cloudy with a temperature of 57.0°F (13.9°C). The wind speed is 5.6 mph coming from the northeast. The humidity is at 93%, and the visibility is 6.0 miles. Let me know if you need more details!', response_metadata={'finish_reason': 'stop', 'logprobs': None, 'model_name': 'gpt-3.5-turbo', 'system_fingerprint': None, 'token_usage': {'completion_tokens': 65, 'prompt_tokens': 731, 'total_tokens': 796}}, id='run-0bb96e0d-7ab9-403d-8b51-eda200ff7457-0')]}, next=(), config={'configurable': {'thread_id': '1', 'thread_ts': '1ef24d9e-6406-6b6c-8003-854a6009b5ca'}}, metadata={'source': 'loop', 'step': 3, 'writes': {'llm': {'messages': [AIMessage(content='The current weather in San Francisco is partly cloudy with a temperature of 57.0°F (13.9°C). The wind speed is 5.6 mph coming from the northeast. The humidity is at 93%, and the visibility is 6.0 miles. Let me know if you need more details!', response_metadata={'finish_reason': 'stop', 'logprobs': None, 'model_name': 'gpt-3.5-turbo', 'system_fingerprint': None, 'token_usage': {'completion_tokens': 65, 'prompt_tokens': 731, 'total_tokens': 796}}, id='run-0bb96e0d-7ab9-403d-8b51-eda200ff7457-0')]}}}, created_at='2024-06-07T14:26:16.125937+00:00', parent_config={'configurable': {'thread_id': '1', 'thread_ts': '1ef24d9e-53ce-6e95-8002-f604592625b7'}})"
      ]
     },
     "execution_count": 11,
     "metadata": {},
     "output_type": "execute_result"
    }
   ],
   "source": [
    "abot.graph.get_state(thread)"
   ]
  },
  {
   "cell_type": "code",
   "execution_count": 12,
   "metadata": {},
   "outputs": [
    {
     "data": {
      "text/plain": [
       "()"
      ]
     },
     "execution_count": 12,
     "metadata": {},
     "output_type": "execute_result"
    }
   ],
   "source": [
    "abot.graph.get_state(thread).next"
   ]
  },
  {
   "cell_type": "code",
   "execution_count": 13,
   "metadata": {},
   "outputs": [
    {
     "name": "stdout",
     "output_type": "stream",
     "text": [
      "{'messages': [HumanMessage(content='Whats the weather in LA?', id='336446b5-8603-4fa1-950c-080b0f6d2ee9'), AIMessage(content='', additional_kwargs={'tool_calls': [{'id': 'call_UVotGo8QOAA6qzqKzkdkdV4W', 'function': {'arguments': '{\"query\":\"weather in Los Angeles\"}', 'name': 'tavily_search_results_json'}, 'type': 'function'}]}, response_metadata={'token_usage': {'completion_tokens': 21, 'prompt_tokens': 152, 'total_tokens': 173}, 'model_name': 'gpt-3.5-turbo', 'system_fingerprint': None, 'finish_reason': 'tool_calls', 'logprobs': None}, id='run-467e2d45-9b95-4b57-867f-ce831b3a861a-0', tool_calls=[{'name': 'tavily_search_results_json', 'args': {'query': 'weather in Los Angeles'}, 'id': 'call_UVotGo8QOAA6qzqKzkdkdV4W'}])]}\n",
      "{'messages': [AIMessage(content='', additional_kwargs={'tool_calls': [{'id': 'call_UVotGo8QOAA6qzqKzkdkdV4W', 'function': {'arguments': '{\"query\":\"weather in Los Angeles\"}', 'name': 'tavily_search_results_json'}, 'type': 'function'}]}, response_metadata={'token_usage': {'completion_tokens': 21, 'prompt_tokens': 152, 'total_tokens': 173}, 'model_name': 'gpt-3.5-turbo', 'system_fingerprint': None, 'finish_reason': 'tool_calls', 'logprobs': None}, id='run-467e2d45-9b95-4b57-867f-ce831b3a861a-0', tool_calls=[{'name': 'tavily_search_results_json', 'args': {'query': 'weather in Los Angeles'}, 'id': 'call_UVotGo8QOAA6qzqKzkdkdV4W'}])]}\n",
      "\n",
      " StateSnapshot(values={'messages': [HumanMessage(content='Whats the weather in LA?', id='336446b5-8603-4fa1-950c-080b0f6d2ee9'), AIMessage(content='', additional_kwargs={'tool_calls': [{'function': {'arguments': '{\"query\":\"weather in Los Angeles\"}', 'name': 'tavily_search_results_json'}, 'id': 'call_UVotGo8QOAA6qzqKzkdkdV4W', 'type': 'function'}]}, response_metadata={'finish_reason': 'tool_calls', 'logprobs': None, 'model_name': 'gpt-3.5-turbo', 'system_fingerprint': None, 'token_usage': {'completion_tokens': 21, 'prompt_tokens': 152, 'total_tokens': 173}}, id='run-467e2d45-9b95-4b57-867f-ce831b3a861a-0', tool_calls=[{'name': 'tavily_search_results_json', 'args': {'query': 'weather in Los Angeles'}, 'id': 'call_UVotGo8QOAA6qzqKzkdkdV4W'}])]}, next=('action',), config={'configurable': {'thread_id': '2', 'thread_ts': '1ef24da0-e504-639d-8001-a4080a84f586'}}, metadata={'source': 'loop', 'step': 1, 'writes': {'llm': {'messages': [AIMessage(content='', additional_kwargs={'tool_calls': [{'function': {'arguments': '{\"query\":\"weather in Los Angeles\"}', 'name': 'tavily_search_results_json'}, 'id': 'call_UVotGo8QOAA6qzqKzkdkdV4W', 'type': 'function'}]}, response_metadata={'finish_reason': 'tool_calls', 'logprobs': None, 'model_name': 'gpt-3.5-turbo', 'system_fingerprint': None, 'token_usage': {'completion_tokens': 21, 'prompt_tokens': 152, 'total_tokens': 173}}, id='run-467e2d45-9b95-4b57-867f-ce831b3a861a-0', tool_calls=[{'name': 'tavily_search_results_json', 'args': {'query': 'weather in Los Angeles'}, 'id': 'call_UVotGo8QOAA6qzqKzkdkdV4W'}])]}}}, created_at='2024-06-07T14:27:23.338639+00:00', parent_config={'configurable': {'thread_id': '2', 'thread_ts': '1ef24da0-dda8-6c04-8000-3da524e547b4'}}) \n",
      "\n",
      "Calling: {'name': 'tavily_search_results_json', 'args': {'query': 'weather in Los Angeles'}, 'id': 'call_UVotGo8QOAA6qzqKzkdkdV4W'}\n",
      "Back to the model!\n",
      "{'messages': [ToolMessage(content='[{\\'url\\': \\'https://www.weatherapi.com/\\', \\'content\\': \"{\\'location\\': {\\'name\\': \\'Los Angeles\\', \\'region\\': \\'California\\', \\'country\\': \\'United States of America\\', \\'lat\\': 34.05, \\'lon\\': -118.24, \\'tz_id\\': \\'America/Los_Angeles\\', \\'localtime_epoch\\': 1717770067, \\'localtime\\': \\'2024-06-07 7:21\\'}, \\'current\\': {\\'last_updated_epoch\\': 1717769700, \\'last_updated\\': \\'2024-06-07 07:15\\', \\'temp_c\\': 16.7, \\'temp_f\\': 62.1, \\'is_day\\': 1, \\'condition\\': {\\'text\\': \\'Mist\\', \\'icon\\': \\'//cdn.weatherapi.com/weather/64x64/day/143.png\\', \\'code\\': 1030}, \\'wind_mph\\': 4.3, \\'wind_kph\\': 6.8, \\'wind_degree\\': 90, \\'wind_dir\\': \\'E\\', \\'pressure_mb\\': 1013.0, \\'pressure_in\\': 29.9, \\'precip_mm\\': 0.0, \\'precip_in\\': 0.0, \\'humidity\\': 90, \\'cloud\\': 100, \\'feelslike_c\\': 16.7, \\'feelslike_f\\': 62.1, \\'windchill_c\\': 18.8, \\'windchill_f\\': 65.8, \\'heatindex_c\\': 18.8, \\'heatindex_f\\': 65.8, \\'dewpoint_c\\': 14.0, \\'dewpoint_f\\': 57.2, \\'vis_km\\': 8.0, \\'vis_miles\\': 4.0, \\'uv\\': 5.0, \\'gust_mph\\': 8.7, \\'gust_kph\\': 14.0}}\"}, {\\'url\\': \\'https://weatherspark.com/h/y/1705/2024/Historical-Weather-during-2024-in-Los-Angeles-California-United-States\\', \\'content\\': \\'Los Angeles Temperature History 2024\\\\nHourly Temperature in 2024 in Los Angeles\\\\nCompare Los Angeles to another city:\\\\nCloud Cover in 2024 in Los Angeles\\\\nDaily Precipitation in 2024 in Los Angeles\\\\nObserved Weather in 2024 in Los Angeles\\\\nHours of Daylight and Twilight in 2024 in Los Angeles\\\\nSunrise & Sunset with Twilight and Daylight Saving Time in 2024 in Los Angeles\\\\nSolar Elevation and Azimuth in 2024 in Los Angeles\\\\nMoon Rise, Set & Phases in 2024 in Los Angeles\\\\nHumidity Comfort Levels in 2024 in Los Angeles\\\\nWind Speed in 2024 in Los Angeles\\\\nHourly Wind Speed in 2024 in Los Angeles\\\\nHourly Wind Direction in 2024 in Los Angeles\\\\nAtmospheric Pressure in 2024 in Los Angeles\\\\nData Sources\\\\n 55.0°F\\\\nPrecipitation\\\\nNo Report\\\\nWind\\\\n5.8 mph\\\\nCloud Cover\\\\nMostly Cloudy\\\\n3,400 ft\\\\nRaw: KLAX 091853Z 07005KT While having the tremendous advantages of temporal and spatial completeness, these reconstructions: (1) are based on computer models that may have model-based errors, (2) are coarsely sampled on a 50 km grid and are therefore unable to reconstruct the local variations of many microclimates, and (3) have particular difficulty with the weather in some coastal areas, especially small islands.\\\\n We further caution that our travel scores are only as good as the data that underpin them, that weather conditions at any given location and time are unpredictable and variable, and that the definition of the scores reflects a particular set of preferences that may not agree with those of any particular reader.\\\\n See all nearby weather stations\\\\nLatest Report — 10:53 AM\\\\nFri, Feb 9, 2024\\\\xa0\\\\xa0\\\\xa0\\\\xa056 min ago\\\\xa0\\\\xa0\\\\xa0\\\\xa0UTC 18:53\\\\nCall Sign KLAX\\\\nTemp.\\\\n\\'}]', name='tavily_search_results_json', id='f953fced-e1e5-4eda-958f-ce90bbb7ba9f', tool_call_id='call_UVotGo8QOAA6qzqKzkdkdV4W')]}\n",
      "{'messages': [HumanMessage(content='Whats the weather in LA?', id='336446b5-8603-4fa1-950c-080b0f6d2ee9'), AIMessage(content='', additional_kwargs={'tool_calls': [{'function': {'arguments': '{\"query\":\"weather in Los Angeles\"}', 'name': 'tavily_search_results_json'}, 'id': 'call_UVotGo8QOAA6qzqKzkdkdV4W', 'type': 'function'}]}, response_metadata={'finish_reason': 'tool_calls', 'logprobs': None, 'model_name': 'gpt-3.5-turbo', 'system_fingerprint': None, 'token_usage': {'completion_tokens': 21, 'prompt_tokens': 152, 'total_tokens': 173}}, id='run-467e2d45-9b95-4b57-867f-ce831b3a861a-0', tool_calls=[{'name': 'tavily_search_results_json', 'args': {'query': 'weather in Los Angeles'}, 'id': 'call_UVotGo8QOAA6qzqKzkdkdV4W'}]), ToolMessage(content='[{\\'url\\': \\'https://www.weatherapi.com/\\', \\'content\\': \"{\\'location\\': {\\'name\\': \\'Los Angeles\\', \\'region\\': \\'California\\', \\'country\\': \\'United States of America\\', \\'lat\\': 34.05, \\'lon\\': -118.24, \\'tz_id\\': \\'America/Los_Angeles\\', \\'localtime_epoch\\': 1717770067, \\'localtime\\': \\'2024-06-07 7:21\\'}, \\'current\\': {\\'last_updated_epoch\\': 1717769700, \\'last_updated\\': \\'2024-06-07 07:15\\', \\'temp_c\\': 16.7, \\'temp_f\\': 62.1, \\'is_day\\': 1, \\'condition\\': {\\'text\\': \\'Mist\\', \\'icon\\': \\'//cdn.weatherapi.com/weather/64x64/day/143.png\\', \\'code\\': 1030}, \\'wind_mph\\': 4.3, \\'wind_kph\\': 6.8, \\'wind_degree\\': 90, \\'wind_dir\\': \\'E\\', \\'pressure_mb\\': 1013.0, \\'pressure_in\\': 29.9, \\'precip_mm\\': 0.0, \\'precip_in\\': 0.0, \\'humidity\\': 90, \\'cloud\\': 100, \\'feelslike_c\\': 16.7, \\'feelslike_f\\': 62.1, \\'windchill_c\\': 18.8, \\'windchill_f\\': 65.8, \\'heatindex_c\\': 18.8, \\'heatindex_f\\': 65.8, \\'dewpoint_c\\': 14.0, \\'dewpoint_f\\': 57.2, \\'vis_km\\': 8.0, \\'vis_miles\\': 4.0, \\'uv\\': 5.0, \\'gust_mph\\': 8.7, \\'gust_kph\\': 14.0}}\"}, {\\'url\\': \\'https://weatherspark.com/h/y/1705/2024/Historical-Weather-during-2024-in-Los-Angeles-California-United-States\\', \\'content\\': \\'Los Angeles Temperature History 2024\\\\nHourly Temperature in 2024 in Los Angeles\\\\nCompare Los Angeles to another city:\\\\nCloud Cover in 2024 in Los Angeles\\\\nDaily Precipitation in 2024 in Los Angeles\\\\nObserved Weather in 2024 in Los Angeles\\\\nHours of Daylight and Twilight in 2024 in Los Angeles\\\\nSunrise & Sunset with Twilight and Daylight Saving Time in 2024 in Los Angeles\\\\nSolar Elevation and Azimuth in 2024 in Los Angeles\\\\nMoon Rise, Set & Phases in 2024 in Los Angeles\\\\nHumidity Comfort Levels in 2024 in Los Angeles\\\\nWind Speed in 2024 in Los Angeles\\\\nHourly Wind Speed in 2024 in Los Angeles\\\\nHourly Wind Direction in 2024 in Los Angeles\\\\nAtmospheric Pressure in 2024 in Los Angeles\\\\nData Sources\\\\n 55.0°F\\\\nPrecipitation\\\\nNo Report\\\\nWind\\\\n5.8 mph\\\\nCloud Cover\\\\nMostly Cloudy\\\\n3,400 ft\\\\nRaw: KLAX 091853Z 07005KT While having the tremendous advantages of temporal and spatial completeness, these reconstructions: (1) are based on computer models that may have model-based errors, (2) are coarsely sampled on a 50 km grid and are therefore unable to reconstruct the local variations of many microclimates, and (3) have particular difficulty with the weather in some coastal areas, especially small islands.\\\\n We further caution that our travel scores are only as good as the data that underpin them, that weather conditions at any given location and time are unpredictable and variable, and that the definition of the scores reflects a particular set of preferences that may not agree with those of any particular reader.\\\\n See all nearby weather stations\\\\nLatest Report — 10:53 AM\\\\nFri, Feb 9, 2024\\\\xa0\\\\xa0\\\\xa0\\\\xa056 min ago\\\\xa0\\\\xa0\\\\xa0\\\\xa0UTC 18:53\\\\nCall Sign KLAX\\\\nTemp.\\\\n\\'}]', name='tavily_search_results_json', id='f953fced-e1e5-4eda-958f-ce90bbb7ba9f', tool_call_id='call_UVotGo8QOAA6qzqKzkdkdV4W'), AIMessage(content='The current weather in Los Angeles is misty with a temperature of 62.1°F (16.7°C). The wind speed is 4.3 mph (6.8 km/h) coming from the east. The humidity is at 90%, and the visibility is 4.0 miles.', response_metadata={'token_usage': {'completion_tokens': 63, 'prompt_tokens': 1059, 'total_tokens': 1122}, 'model_name': 'gpt-3.5-turbo', 'system_fingerprint': None, 'finish_reason': 'stop', 'logprobs': None}, id='run-65b52605-5a4e-49b6-afdb-34a1b4a6e3c9-0')]}\n",
      "{'messages': [AIMessage(content='The current weather in Los Angeles is misty with a temperature of 62.1°F (16.7°C). The wind speed is 4.3 mph (6.8 km/h) coming from the east. The humidity is at 90%, and the visibility is 4.0 miles.', response_metadata={'token_usage': {'completion_tokens': 63, 'prompt_tokens': 1059, 'total_tokens': 1122}, 'model_name': 'gpt-3.5-turbo', 'system_fingerprint': None, 'finish_reason': 'stop', 'logprobs': None}, id='run-65b52605-5a4e-49b6-afdb-34a1b4a6e3c9-0')]}\n"
     ]
    }
   ],
   "source": [
    "messages = [HumanMessage(\"Whats the weather in LA?\")]\n",
    "thread = {\"configurable\": {\"thread_id\": \"2\"}}\n",
    "for event in abot.graph.stream({\"messages\": messages}, thread):\n",
    "    for v in event.values():\n",
    "        print(v)\n",
    "while abot.graph.get_state(thread).next:\n",
    "    print(\"\\n\", abot.graph.get_state(thread),\"\\n\")\n",
    "    _input = input(\"proceed?\")\n",
    "    if _input != \"y\":\n",
    "        print(\"aborting\")\n",
    "        break\n",
    "    for event in abot.graph.stream(None, thread):\n",
    "        for v in event.values():\n",
    "            print(v)"
   ]
  },
  {
   "cell_type": "code",
   "execution_count": 14,
   "metadata": {},
   "outputs": [
    {
     "data": {
      "text/plain": [
       "<generator object Pregel.get_state_history at 0x000001D81696D4E0>"
      ]
     },
     "execution_count": 14,
     "metadata": {},
     "output_type": "execute_result"
    }
   ],
   "source": [
    "abot.graph.get_state_history(thread)"
   ]
  },
  {
   "cell_type": "markdown",
   "metadata": {},
   "source": [
    "# Modifying the State"
   ]
  },
  {
   "cell_type": "code",
   "execution_count": 15,
   "metadata": {},
   "outputs": [
    {
     "name": "stdout",
     "output_type": "stream",
     "text": [
      "{'messages': [HumanMessage(content='Whats the weather in LA?', id='741d3d4e-4dd4-4f8f-88a1-81b4019d297d'), AIMessage(content='', additional_kwargs={'tool_calls': [{'id': 'call_M31MNzdRBbPwEquyR5PxdmN8', 'function': {'arguments': '{\"query\":\"weather in Los Angeles\"}', 'name': 'tavily_search_results_json'}, 'type': 'function'}]}, response_metadata={'token_usage': {'completion_tokens': 21, 'prompt_tokens': 152, 'total_tokens': 173}, 'model_name': 'gpt-3.5-turbo', 'system_fingerprint': None, 'finish_reason': 'tool_calls', 'logprobs': None}, id='run-ddbf44d5-deab-4720-9a15-f64588be0d8b-0', tool_calls=[{'name': 'tavily_search_results_json', 'args': {'query': 'weather in Los Angeles'}, 'id': 'call_M31MNzdRBbPwEquyR5PxdmN8'}])]}\n",
      "{'messages': [AIMessage(content='', additional_kwargs={'tool_calls': [{'id': 'call_M31MNzdRBbPwEquyR5PxdmN8', 'function': {'arguments': '{\"query\":\"weather in Los Angeles\"}', 'name': 'tavily_search_results_json'}, 'type': 'function'}]}, response_metadata={'token_usage': {'completion_tokens': 21, 'prompt_tokens': 152, 'total_tokens': 173}, 'model_name': 'gpt-3.5-turbo', 'system_fingerprint': None, 'finish_reason': 'tool_calls', 'logprobs': None}, id='run-ddbf44d5-deab-4720-9a15-f64588be0d8b-0', tool_calls=[{'name': 'tavily_search_results_json', 'args': {'query': 'weather in Los Angeles'}, 'id': 'call_M31MNzdRBbPwEquyR5PxdmN8'}])]}\n"
     ]
    }
   ],
   "source": [
    "messages = [HumanMessage(\"Whats the weather in LA?\")]\n",
    "thread = {\"configurable\": {\"thread_id\": \"3\"}}\n",
    "for event in abot.graph.stream({\"messages\": messages}, thread):\n",
    "    for v in event.values():\n",
    "        print(v)"
   ]
  },
  {
   "cell_type": "code",
   "execution_count": 16,
   "metadata": {},
   "outputs": [
    {
     "data": {
      "text/plain": [
       "StateSnapshot(values={'messages': [HumanMessage(content='Whats the weather in LA?', id='741d3d4e-4dd4-4f8f-88a1-81b4019d297d'), AIMessage(content='', additional_kwargs={'tool_calls': [{'function': {'arguments': '{\"query\":\"weather in Los Angeles\"}', 'name': 'tavily_search_results_json'}, 'id': 'call_M31MNzdRBbPwEquyR5PxdmN8', 'type': 'function'}]}, response_metadata={'finish_reason': 'tool_calls', 'logprobs': None, 'model_name': 'gpt-3.5-turbo', 'system_fingerprint': None, 'token_usage': {'completion_tokens': 21, 'prompt_tokens': 152, 'total_tokens': 173}}, id='run-ddbf44d5-deab-4720-9a15-f64588be0d8b-0', tool_calls=[{'name': 'tavily_search_results_json', 'args': {'query': 'weather in Los Angeles'}, 'id': 'call_M31MNzdRBbPwEquyR5PxdmN8'}])]}, next=('action',), config={'configurable': {'thread_id': '3', 'thread_ts': '1ef24dc4-d41b-6d12-8001-c504c60bca48'}}, metadata={'source': 'loop', 'step': 1, 'writes': {'llm': {'messages': [AIMessage(content='', additional_kwargs={'tool_calls': [{'function': {'arguments': '{\"query\":\"weather in Los Angeles\"}', 'name': 'tavily_search_results_json'}, 'id': 'call_M31MNzdRBbPwEquyR5PxdmN8', 'type': 'function'}]}, response_metadata={'finish_reason': 'tool_calls', 'logprobs': None, 'model_name': 'gpt-3.5-turbo', 'system_fingerprint': None, 'token_usage': {'completion_tokens': 21, 'prompt_tokens': 152, 'total_tokens': 173}}, id='run-ddbf44d5-deab-4720-9a15-f64588be0d8b-0', tool_calls=[{'name': 'tavily_search_results_json', 'args': {'query': 'weather in Los Angeles'}, 'id': 'call_M31MNzdRBbPwEquyR5PxdmN8'}])]}}}, created_at='2024-06-07T14:43:27.933365+00:00', parent_config={'configurable': {'thread_id': '3', 'thread_ts': '1ef24dc4-c688-6085-8000-1f772e3d77dc'}})"
      ]
     },
     "execution_count": 16,
     "metadata": {},
     "output_type": "execute_result"
    }
   ],
   "source": [
    "abot.graph.get_state(thread)"
   ]
  },
  {
   "cell_type": "code",
   "execution_count": 18,
   "metadata": {},
   "outputs": [],
   "source": [
    "# How to go about to modify the state of the agent to ask a different question to correct agent action\n",
    "# First we save the current state of the agent to a variable\n",
    "current_values = abot.graph.get_state(thread)"
   ]
  },
  {
   "cell_type": "code",
   "execution_count": 19,
   "metadata": {},
   "outputs": [
    {
     "data": {
      "text/plain": [
       "AIMessage(content='', additional_kwargs={'tool_calls': [{'function': {'arguments': '{\"query\":\"weather in Los Angeles\"}', 'name': 'tavily_search_results_json'}, 'id': 'call_M31MNzdRBbPwEquyR5PxdmN8', 'type': 'function'}]}, response_metadata={'finish_reason': 'tool_calls', 'logprobs': None, 'model_name': 'gpt-3.5-turbo', 'system_fingerprint': None, 'token_usage': {'completion_tokens': 21, 'prompt_tokens': 152, 'total_tokens': 173}}, id='run-ddbf44d5-deab-4720-9a15-f64588be0d8b-0', tool_calls=[{'name': 'tavily_search_results_json', 'args': {'query': 'weather in Los Angeles'}, 'id': 'call_M31MNzdRBbPwEquyR5PxdmN8'}])"
      ]
     },
     "execution_count": 19,
     "metadata": {},
     "output_type": "execute_result"
    }
   ],
   "source": [
    "current_values.values['messages'][-1]"
   ]
  },
  {
   "cell_type": "code",
   "execution_count": 20,
   "metadata": {},
   "outputs": [
    {
     "data": {
      "text/plain": [
       "[{'name': 'tavily_search_results_json',\n",
       "  'args': {'query': 'weather in Los Angeles'},\n",
       "  'id': 'call_M31MNzdRBbPwEquyR5PxdmN8'}]"
      ]
     },
     "execution_count": 20,
     "metadata": {},
     "output_type": "execute_result"
    }
   ],
   "source": [
    "current_values.values['messages'][-1].tool_calls"
   ]
  },
  {
   "cell_type": "code",
   "execution_count": 21,
   "metadata": {},
   "outputs": [],
   "source": [
    "# Update the tool call to ask a different question\n",
    "_id = current_values.values['messages'][-1].tool_calls[0]['id']\n",
    "# Update tool call property to a list\n",
    "current_values.values['messages'][-1].tool_calls = [\n",
    "    {'name': 'tavily_search_results_json',\n",
    "  'args': {'query': 'current weather in Louisiana'},\n",
    "  'id': _id}\n",
    "]"
   ]
  },
  {
   "cell_type": "code",
   "execution_count": 22,
   "metadata": {},
   "outputs": [
    {
     "name": "stdout",
     "output_type": "stream",
     "text": [
      "{'messages': [HumanMessage(content='Whats the weather in LA?', id='741d3d4e-4dd4-4f8f-88a1-81b4019d297d'), AIMessage(content='', additional_kwargs={'tool_calls': [{'function': {'arguments': '{\"query\":\"weather in Los Angeles\"}', 'name': 'tavily_search_results_json'}, 'id': 'call_M31MNzdRBbPwEquyR5PxdmN8', 'type': 'function'}]}, response_metadata={'finish_reason': 'tool_calls', 'logprobs': None, 'model_name': 'gpt-3.5-turbo', 'system_fingerprint': None, 'token_usage': {'completion_tokens': 21, 'prompt_tokens': 152, 'total_tokens': 173}}, id='run-ddbf44d5-deab-4720-9a15-f64588be0d8b-0', tool_calls=[{'name': 'tavily_search_results_json', 'args': {'query': 'current weather in Louisiana'}, 'id': 'call_M31MNzdRBbPwEquyR5PxdmN8'}])]}\n"
     ]
    },
    {
     "data": {
      "text/plain": [
       "{'configurable': {'thread_id': '3',\n",
       "  'thread_ts': '1ef24dd5-e661-60cf-8002-2ed302aad9c3'}}"
      ]
     },
     "execution_count": 22,
     "metadata": {},
     "output_type": "execute_result"
    }
   ],
   "source": [
    "abot.graph.update_state(thread, current_values.values)"
   ]
  },
  {
   "cell_type": "code",
   "execution_count": 23,
   "metadata": {},
   "outputs": [
    {
     "data": {
      "text/plain": [
       "StateSnapshot(values={'messages': [HumanMessage(content='Whats the weather in LA?', id='741d3d4e-4dd4-4f8f-88a1-81b4019d297d'), AIMessage(content='', additional_kwargs={'tool_calls': [{'function': {'arguments': '{\"query\":\"weather in Los Angeles\"}', 'name': 'tavily_search_results_json'}, 'id': 'call_M31MNzdRBbPwEquyR5PxdmN8', 'type': 'function'}]}, response_metadata={'finish_reason': 'tool_calls', 'logprobs': None, 'model_name': 'gpt-3.5-turbo', 'system_fingerprint': None, 'token_usage': {'completion_tokens': 21, 'prompt_tokens': 152, 'total_tokens': 173}}, id='run-ddbf44d5-deab-4720-9a15-f64588be0d8b-0', tool_calls=[{'name': 'tavily_search_results_json', 'args': {'query': 'current weather in Louisiana'}, 'id': 'call_M31MNzdRBbPwEquyR5PxdmN8'}])]}, next=('action',), config={'configurable': {'thread_id': '3', 'thread_ts': '1ef24dd5-e661-60cf-8002-2ed302aad9c3'}}, metadata={'source': 'update', 'step': 2, 'writes': {'llm': {'messages': [HumanMessage(content='Whats the weather in LA?', id='741d3d4e-4dd4-4f8f-88a1-81b4019d297d'), AIMessage(content='', additional_kwargs={'tool_calls': [{'function': {'arguments': '{\"query\":\"weather in Los Angeles\"}', 'name': 'tavily_search_results_json'}, 'id': 'call_M31MNzdRBbPwEquyR5PxdmN8', 'type': 'function'}]}, response_metadata={'finish_reason': 'tool_calls', 'logprobs': None, 'model_name': 'gpt-3.5-turbo', 'system_fingerprint': None, 'token_usage': {'completion_tokens': 21, 'prompt_tokens': 152, 'total_tokens': 173}}, id='run-ddbf44d5-deab-4720-9a15-f64588be0d8b-0', tool_calls=[{'name': 'tavily_search_results_json', 'args': {'query': 'current weather in Louisiana'}, 'id': 'call_M31MNzdRBbPwEquyR5PxdmN8'}])]}}}, created_at='2024-06-07T14:51:06.189435+00:00', parent_config={'configurable': {'thread_id': '3', 'thread_ts': '1ef24dc4-d41b-6d12-8001-c504c60bca48'}})"
      ]
     },
     "execution_count": 23,
     "metadata": {},
     "output_type": "execute_result"
    }
   ],
   "source": [
    "abot.graph.get_state(thread)"
   ]
  },
  {
   "cell_type": "code",
   "execution_count": 24,
   "metadata": {},
   "outputs": [
    {
     "name": "stdout",
     "output_type": "stream",
     "text": [
      "Calling: {'name': 'tavily_search_results_json', 'args': {'query': 'current weather in Louisiana'}, 'id': 'call_M31MNzdRBbPwEquyR5PxdmN8'}\n",
      "Back to the model!\n",
      "{'messages': [ToolMessage(content='[{\\'url\\': \\'https://www.weatherapi.com/\\', \\'content\\': \"{\\'location\\': {\\'name\\': \\'Louisiana\\', \\'region\\': \\'Missouri\\', \\'country\\': \\'USA United States of America\\', \\'lat\\': 39.44, \\'lon\\': -91.06, \\'tz_id\\': \\'America/Chicago\\', \\'localtime_epoch\\': 1717771950, \\'localtime\\': \\'2024-06-07 9:52\\'}, \\'current\\': {\\'last_updated_epoch\\': 1717771500, \\'last_updated\\': \\'2024-06-07 09:45\\', \\'temp_c\\': 24.3, \\'temp_f\\': 75.7, \\'is_day\\': 1, \\'condition\\': {\\'text\\': \\'Sunny\\', \\'icon\\': \\'//cdn.weatherapi.com/weather/64x64/day/113.png\\', \\'code\\': 1000}, \\'wind_mph\\': 3.8, \\'wind_kph\\': 6.1, \\'wind_degree\\': 280, \\'wind_dir\\': \\'W\\', \\'pressure_mb\\': 1015.0, \\'pressure_in\\': 29.96, \\'precip_mm\\': 0.0, \\'precip_in\\': 0.0, \\'humidity\\': 41, \\'cloud\\': 0, \\'feelslike_c\\': 25.9, \\'feelslike_f\\': 78.7, \\'windchill_c\\': 19.5, \\'windchill_f\\': 67.1, \\'heatindex_c\\': 21.1, \\'heatindex_f\\': 70.0, \\'dewpoint_c\\': 13.8, \\'dewpoint_f\\': 56.8, \\'vis_km\\': 16.0, \\'vis_miles\\': 9.0, \\'uv\\': 5.0, \\'gust_mph\\': 9.6, \\'gust_kph\\': 15.4}}\"}, {\\'url\\': \\'https://www.weather-atlas.com/en/louisiana-usa-weather-july\\', \\'content\\': \\'July is the season of high heat in Lafayette with the temperatures soaring to a peak of 89.8°F (32.1°C). On the first day of July in Lafayette, Louisiana, sunrise is at 6:10 am and sunset at 8:13 pm. July brings in the pinnacle of summer with temperatures rising noticeably in Lake Charles, Louisiana.\\'}]', name='tavily_search_results_json', id='e0d2b631-7089-454d-89cc-a920a814956a', tool_call_id='call_M31MNzdRBbPwEquyR5PxdmN8')]}\n",
      "{'messages': [HumanMessage(content='Whats the weather in LA?', id='741d3d4e-4dd4-4f8f-88a1-81b4019d297d'), AIMessage(content='', additional_kwargs={'tool_calls': [{'function': {'arguments': '{\"query\":\"weather in Los Angeles\"}', 'name': 'tavily_search_results_json'}, 'id': 'call_M31MNzdRBbPwEquyR5PxdmN8', 'type': 'function'}]}, response_metadata={'finish_reason': 'tool_calls', 'logprobs': None, 'model_name': 'gpt-3.5-turbo', 'system_fingerprint': None, 'token_usage': {'completion_tokens': 21, 'prompt_tokens': 152, 'total_tokens': 173}}, id='run-ddbf44d5-deab-4720-9a15-f64588be0d8b-0', tool_calls=[{'name': 'tavily_search_results_json', 'args': {'query': 'current weather in Louisiana'}, 'id': 'call_M31MNzdRBbPwEquyR5PxdmN8'}]), ToolMessage(content='[{\\'url\\': \\'https://www.weatherapi.com/\\', \\'content\\': \"{\\'location\\': {\\'name\\': \\'Louisiana\\', \\'region\\': \\'Missouri\\', \\'country\\': \\'USA United States of America\\', \\'lat\\': 39.44, \\'lon\\': -91.06, \\'tz_id\\': \\'America/Chicago\\', \\'localtime_epoch\\': 1717771950, \\'localtime\\': \\'2024-06-07 9:52\\'}, \\'current\\': {\\'last_updated_epoch\\': 1717771500, \\'last_updated\\': \\'2024-06-07 09:45\\', \\'temp_c\\': 24.3, \\'temp_f\\': 75.7, \\'is_day\\': 1, \\'condition\\': {\\'text\\': \\'Sunny\\', \\'icon\\': \\'//cdn.weatherapi.com/weather/64x64/day/113.png\\', \\'code\\': 1000}, \\'wind_mph\\': 3.8, \\'wind_kph\\': 6.1, \\'wind_degree\\': 280, \\'wind_dir\\': \\'W\\', \\'pressure_mb\\': 1015.0, \\'pressure_in\\': 29.96, \\'precip_mm\\': 0.0, \\'precip_in\\': 0.0, \\'humidity\\': 41, \\'cloud\\': 0, \\'feelslike_c\\': 25.9, \\'feelslike_f\\': 78.7, \\'windchill_c\\': 19.5, \\'windchill_f\\': 67.1, \\'heatindex_c\\': 21.1, \\'heatindex_f\\': 70.0, \\'dewpoint_c\\': 13.8, \\'dewpoint_f\\': 56.8, \\'vis_km\\': 16.0, \\'vis_miles\\': 9.0, \\'uv\\': 5.0, \\'gust_mph\\': 9.6, \\'gust_kph\\': 15.4}}\"}, {\\'url\\': \\'https://www.weather-atlas.com/en/louisiana-usa-weather-july\\', \\'content\\': \\'July is the season of high heat in Lafayette with the temperatures soaring to a peak of 89.8°F (32.1°C). On the first day of July in Lafayette, Louisiana, sunrise is at 6:10 am and sunset at 8:13 pm. July brings in the pinnacle of summer with temperatures rising noticeably in Lake Charles, Louisiana.\\'}]', name='tavily_search_results_json', id='e0d2b631-7089-454d-89cc-a920a814956a', tool_call_id='call_M31MNzdRBbPwEquyR5PxdmN8'), AIMessage(content='The current weather in Louisiana (not Los Angeles) is sunny with a temperature of 75.7°F (24.3°C). The wind speed is 6.1 km/h coming from the west. The humidity is at 41%, and there is no precipitation at the moment.', response_metadata={'token_usage': {'completion_tokens': 59, 'prompt_tokens': 691, 'total_tokens': 750}, 'model_name': 'gpt-3.5-turbo', 'system_fingerprint': None, 'finish_reason': 'stop', 'logprobs': None}, id='run-34f77d97-55fa-46ae-8dd9-bef407073874-0')]}\n",
      "{'messages': [AIMessage(content='The current weather in Louisiana (not Los Angeles) is sunny with a temperature of 75.7°F (24.3°C). The wind speed is 6.1 km/h coming from the west. The humidity is at 41%, and there is no precipitation at the moment.', response_metadata={'token_usage': {'completion_tokens': 59, 'prompt_tokens': 691, 'total_tokens': 750}, 'model_name': 'gpt-3.5-turbo', 'system_fingerprint': None, 'finish_reason': 'stop', 'logprobs': None}, id='run-34f77d97-55fa-46ae-8dd9-bef407073874-0')]}\n"
     ]
    }
   ],
   "source": [
    "for event in abot.graph.stream(None, thread):\n",
    "    for v in event.values():\n",
    "        print(v)"
   ]
  },
  {
   "cell_type": "markdown",
   "metadata": {},
   "source": [
    "# Time Travel "
   ]
  },
  {
   "cell_type": "code",
   "execution_count": 25,
   "metadata": {},
   "outputs": [
    {
     "name": "stdout",
     "output_type": "stream",
     "text": [
      "StateSnapshot(values={'messages': [HumanMessage(content='Whats the weather in LA?', id='741d3d4e-4dd4-4f8f-88a1-81b4019d297d'), AIMessage(content='', additional_kwargs={'tool_calls': [{'function': {'arguments': '{\"query\":\"weather in Los Angeles\"}', 'name': 'tavily_search_results_json'}, 'id': 'call_M31MNzdRBbPwEquyR5PxdmN8', 'type': 'function'}]}, response_metadata={'finish_reason': 'tool_calls', 'logprobs': None, 'model_name': 'gpt-3.5-turbo', 'system_fingerprint': None, 'token_usage': {'completion_tokens': 21, 'prompt_tokens': 152, 'total_tokens': 173}}, id='run-ddbf44d5-deab-4720-9a15-f64588be0d8b-0', tool_calls=[{'name': 'tavily_search_results_json', 'args': {'query': 'current weather in Louisiana'}, 'id': 'call_M31MNzdRBbPwEquyR5PxdmN8'}]), ToolMessage(content='[{\\'url\\': \\'https://www.weatherapi.com/\\', \\'content\\': \"{\\'location\\': {\\'name\\': \\'Louisiana\\', \\'region\\': \\'Missouri\\', \\'country\\': \\'USA United States of America\\', \\'lat\\': 39.44, \\'lon\\': -91.06, \\'tz_id\\': \\'America/Chicago\\', \\'localtime_epoch\\': 1717771950, \\'localtime\\': \\'2024-06-07 9:52\\'}, \\'current\\': {\\'last_updated_epoch\\': 1717771500, \\'last_updated\\': \\'2024-06-07 09:45\\', \\'temp_c\\': 24.3, \\'temp_f\\': 75.7, \\'is_day\\': 1, \\'condition\\': {\\'text\\': \\'Sunny\\', \\'icon\\': \\'//cdn.weatherapi.com/weather/64x64/day/113.png\\', \\'code\\': 1000}, \\'wind_mph\\': 3.8, \\'wind_kph\\': 6.1, \\'wind_degree\\': 280, \\'wind_dir\\': \\'W\\', \\'pressure_mb\\': 1015.0, \\'pressure_in\\': 29.96, \\'precip_mm\\': 0.0, \\'precip_in\\': 0.0, \\'humidity\\': 41, \\'cloud\\': 0, \\'feelslike_c\\': 25.9, \\'feelslike_f\\': 78.7, \\'windchill_c\\': 19.5, \\'windchill_f\\': 67.1, \\'heatindex_c\\': 21.1, \\'heatindex_f\\': 70.0, \\'dewpoint_c\\': 13.8, \\'dewpoint_f\\': 56.8, \\'vis_km\\': 16.0, \\'vis_miles\\': 9.0, \\'uv\\': 5.0, \\'gust_mph\\': 9.6, \\'gust_kph\\': 15.4}}\"}, {\\'url\\': \\'https://www.weather-atlas.com/en/louisiana-usa-weather-july\\', \\'content\\': \\'July is the season of high heat in Lafayette with the temperatures soaring to a peak of 89.8°F (32.1°C). On the first day of July in Lafayette, Louisiana, sunrise is at 6:10 am and sunset at 8:13 pm. July brings in the pinnacle of summer with temperatures rising noticeably in Lake Charles, Louisiana.\\'}]', name='tavily_search_results_json', id='e0d2b631-7089-454d-89cc-a920a814956a', tool_call_id='call_M31MNzdRBbPwEquyR5PxdmN8'), AIMessage(content='The current weather in Louisiana (not Los Angeles) is sunny with a temperature of 75.7°F (24.3°C). The wind speed is 6.1 km/h coming from the west. The humidity is at 41%, and there is no precipitation at the moment.', response_metadata={'finish_reason': 'stop', 'logprobs': None, 'model_name': 'gpt-3.5-turbo', 'system_fingerprint': None, 'token_usage': {'completion_tokens': 59, 'prompt_tokens': 691, 'total_tokens': 750}}, id='run-34f77d97-55fa-46ae-8dd9-bef407073874-0')]}, next=(), config={'configurable': {'thread_id': '3', 'thread_ts': '1ef24dda-96a1-6797-8004-d00f268aaede'}}, metadata={'source': 'loop', 'step': 4, 'writes': {'llm': {'messages': [AIMessage(content='The current weather in Louisiana (not Los Angeles) is sunny with a temperature of 75.7°F (24.3°C). The wind speed is 6.1 km/h coming from the west. The humidity is at 41%, and there is no precipitation at the moment.', response_metadata={'finish_reason': 'stop', 'logprobs': None, 'model_name': 'gpt-3.5-turbo', 'system_fingerprint': None, 'token_usage': {'completion_tokens': 59, 'prompt_tokens': 691, 'total_tokens': 750}}, id='run-34f77d97-55fa-46ae-8dd9-bef407073874-0')]}}}, created_at='2024-06-07T14:53:12.044943+00:00', parent_config={'configurable': {'thread_id': '3', 'thread_ts': '1ef24dda-85dc-6211-8003-706a7a80f5fc'}})\n",
      "--\n",
      "StateSnapshot(values={'messages': [HumanMessage(content='Whats the weather in LA?', id='741d3d4e-4dd4-4f8f-88a1-81b4019d297d'), AIMessage(content='', additional_kwargs={'tool_calls': [{'function': {'arguments': '{\"query\":\"weather in Los Angeles\"}', 'name': 'tavily_search_results_json'}, 'id': 'call_M31MNzdRBbPwEquyR5PxdmN8', 'type': 'function'}]}, response_metadata={'finish_reason': 'tool_calls', 'logprobs': None, 'model_name': 'gpt-3.5-turbo', 'system_fingerprint': None, 'token_usage': {'completion_tokens': 21, 'prompt_tokens': 152, 'total_tokens': 173}}, id='run-ddbf44d5-deab-4720-9a15-f64588be0d8b-0', tool_calls=[{'name': 'tavily_search_results_json', 'args': {'query': 'current weather in Louisiana'}, 'id': 'call_M31MNzdRBbPwEquyR5PxdmN8'}]), ToolMessage(content='[{\\'url\\': \\'https://www.weatherapi.com/\\', \\'content\\': \"{\\'location\\': {\\'name\\': \\'Louisiana\\', \\'region\\': \\'Missouri\\', \\'country\\': \\'USA United States of America\\', \\'lat\\': 39.44, \\'lon\\': -91.06, \\'tz_id\\': \\'America/Chicago\\', \\'localtime_epoch\\': 1717771950, \\'localtime\\': \\'2024-06-07 9:52\\'}, \\'current\\': {\\'last_updated_epoch\\': 1717771500, \\'last_updated\\': \\'2024-06-07 09:45\\', \\'temp_c\\': 24.3, \\'temp_f\\': 75.7, \\'is_day\\': 1, \\'condition\\': {\\'text\\': \\'Sunny\\', \\'icon\\': \\'//cdn.weatherapi.com/weather/64x64/day/113.png\\', \\'code\\': 1000}, \\'wind_mph\\': 3.8, \\'wind_kph\\': 6.1, \\'wind_degree\\': 280, \\'wind_dir\\': \\'W\\', \\'pressure_mb\\': 1015.0, \\'pressure_in\\': 29.96, \\'precip_mm\\': 0.0, \\'precip_in\\': 0.0, \\'humidity\\': 41, \\'cloud\\': 0, \\'feelslike_c\\': 25.9, \\'feelslike_f\\': 78.7, \\'windchill_c\\': 19.5, \\'windchill_f\\': 67.1, \\'heatindex_c\\': 21.1, \\'heatindex_f\\': 70.0, \\'dewpoint_c\\': 13.8, \\'dewpoint_f\\': 56.8, \\'vis_km\\': 16.0, \\'vis_miles\\': 9.0, \\'uv\\': 5.0, \\'gust_mph\\': 9.6, \\'gust_kph\\': 15.4}}\"}, {\\'url\\': \\'https://www.weather-atlas.com/en/louisiana-usa-weather-july\\', \\'content\\': \\'July is the season of high heat in Lafayette with the temperatures soaring to a peak of 89.8°F (32.1°C). On the first day of July in Lafayette, Louisiana, sunrise is at 6:10 am and sunset at 8:13 pm. July brings in the pinnacle of summer with temperatures rising noticeably in Lake Charles, Louisiana.\\'}]', name='tavily_search_results_json', id='e0d2b631-7089-454d-89cc-a920a814956a', tool_call_id='call_M31MNzdRBbPwEquyR5PxdmN8')]}, next=('llm',), config={'configurable': {'thread_id': '3', 'thread_ts': '1ef24dda-85dc-6211-8003-706a7a80f5fc'}}, metadata={'source': 'loop', 'step': 3, 'writes': {'action': {'messages': [ToolMessage(content='[{\\'url\\': \\'https://www.weatherapi.com/\\', \\'content\\': \"{\\'location\\': {\\'name\\': \\'Louisiana\\', \\'region\\': \\'Missouri\\', \\'country\\': \\'USA United States of America\\', \\'lat\\': 39.44, \\'lon\\': -91.06, \\'tz_id\\': \\'America/Chicago\\', \\'localtime_epoch\\': 1717771950, \\'localtime\\': \\'2024-06-07 9:52\\'}, \\'current\\': {\\'last_updated_epoch\\': 1717771500, \\'last_updated\\': \\'2024-06-07 09:45\\', \\'temp_c\\': 24.3, \\'temp_f\\': 75.7, \\'is_day\\': 1, \\'condition\\': {\\'text\\': \\'Sunny\\', \\'icon\\': \\'//cdn.weatherapi.com/weather/64x64/day/113.png\\', \\'code\\': 1000}, \\'wind_mph\\': 3.8, \\'wind_kph\\': 6.1, \\'wind_degree\\': 280, \\'wind_dir\\': \\'W\\', \\'pressure_mb\\': 1015.0, \\'pressure_in\\': 29.96, \\'precip_mm\\': 0.0, \\'precip_in\\': 0.0, \\'humidity\\': 41, \\'cloud\\': 0, \\'feelslike_c\\': 25.9, \\'feelslike_f\\': 78.7, \\'windchill_c\\': 19.5, \\'windchill_f\\': 67.1, \\'heatindex_c\\': 21.1, \\'heatindex_f\\': 70.0, \\'dewpoint_c\\': 13.8, \\'dewpoint_f\\': 56.8, \\'vis_km\\': 16.0, \\'vis_miles\\': 9.0, \\'uv\\': 5.0, \\'gust_mph\\': 9.6, \\'gust_kph\\': 15.4}}\"}, {\\'url\\': \\'https://www.weather-atlas.com/en/louisiana-usa-weather-july\\', \\'content\\': \\'July is the season of high heat in Lafayette with the temperatures soaring to a peak of 89.8°F (32.1°C). On the first day of July in Lafayette, Louisiana, sunrise is at 6:10 am and sunset at 8:13 pm. July brings in the pinnacle of summer with temperatures rising noticeably in Lake Charles, Louisiana.\\'}]', name='tavily_search_results_json', id='e0d2b631-7089-454d-89cc-a920a814956a', tool_call_id='call_M31MNzdRBbPwEquyR5PxdmN8')]}}}, created_at='2024-06-07T14:53:10.286388+00:00', parent_config={'configurable': {'thread_id': '3', 'thread_ts': '1ef24dd5-e661-60cf-8002-2ed302aad9c3'}})\n",
      "--\n",
      "StateSnapshot(values={'messages': [HumanMessage(content='Whats the weather in LA?', id='741d3d4e-4dd4-4f8f-88a1-81b4019d297d'), AIMessage(content='', additional_kwargs={'tool_calls': [{'function': {'arguments': '{\"query\":\"weather in Los Angeles\"}', 'name': 'tavily_search_results_json'}, 'id': 'call_M31MNzdRBbPwEquyR5PxdmN8', 'type': 'function'}]}, response_metadata={'finish_reason': 'tool_calls', 'logprobs': None, 'model_name': 'gpt-3.5-turbo', 'system_fingerprint': None, 'token_usage': {'completion_tokens': 21, 'prompt_tokens': 152, 'total_tokens': 173}}, id='run-ddbf44d5-deab-4720-9a15-f64588be0d8b-0', tool_calls=[{'name': 'tavily_search_results_json', 'args': {'query': 'current weather in Louisiana'}, 'id': 'call_M31MNzdRBbPwEquyR5PxdmN8'}])]}, next=('action',), config={'configurable': {'thread_id': '3', 'thread_ts': '1ef24dd5-e661-60cf-8002-2ed302aad9c3'}}, metadata={'source': 'update', 'step': 2, 'writes': {'llm': {'messages': [HumanMessage(content='Whats the weather in LA?', id='741d3d4e-4dd4-4f8f-88a1-81b4019d297d'), AIMessage(content='', additional_kwargs={'tool_calls': [{'function': {'arguments': '{\"query\":\"weather in Los Angeles\"}', 'name': 'tavily_search_results_json'}, 'id': 'call_M31MNzdRBbPwEquyR5PxdmN8', 'type': 'function'}]}, response_metadata={'finish_reason': 'tool_calls', 'logprobs': None, 'model_name': 'gpt-3.5-turbo', 'system_fingerprint': None, 'token_usage': {'completion_tokens': 21, 'prompt_tokens': 152, 'total_tokens': 173}}, id='run-ddbf44d5-deab-4720-9a15-f64588be0d8b-0', tool_calls=[{'name': 'tavily_search_results_json', 'args': {'query': 'current weather in Louisiana'}, 'id': 'call_M31MNzdRBbPwEquyR5PxdmN8'}])]}}}, created_at='2024-06-07T14:51:06.189435+00:00', parent_config={'configurable': {'thread_id': '3', 'thread_ts': '1ef24dc4-d41b-6d12-8001-c504c60bca48'}})\n",
      "--\n",
      "StateSnapshot(values={'messages': [HumanMessage(content='Whats the weather in LA?', id='741d3d4e-4dd4-4f8f-88a1-81b4019d297d'), AIMessage(content='', additional_kwargs={'tool_calls': [{'function': {'arguments': '{\"query\":\"weather in Los Angeles\"}', 'name': 'tavily_search_results_json'}, 'id': 'call_M31MNzdRBbPwEquyR5PxdmN8', 'type': 'function'}]}, response_metadata={'finish_reason': 'tool_calls', 'logprobs': None, 'model_name': 'gpt-3.5-turbo', 'system_fingerprint': None, 'token_usage': {'completion_tokens': 21, 'prompt_tokens': 152, 'total_tokens': 173}}, id='run-ddbf44d5-deab-4720-9a15-f64588be0d8b-0', tool_calls=[{'name': 'tavily_search_results_json', 'args': {'query': 'weather in Los Angeles'}, 'id': 'call_M31MNzdRBbPwEquyR5PxdmN8'}])]}, next=('action',), config={'configurable': {'thread_id': '3', 'thread_ts': '1ef24dc4-d41b-6d12-8001-c504c60bca48'}}, metadata={'source': 'loop', 'step': 1, 'writes': {'llm': {'messages': [AIMessage(content='', additional_kwargs={'tool_calls': [{'function': {'arguments': '{\"query\":\"weather in Los Angeles\"}', 'name': 'tavily_search_results_json'}, 'id': 'call_M31MNzdRBbPwEquyR5PxdmN8', 'type': 'function'}]}, response_metadata={'finish_reason': 'tool_calls', 'logprobs': None, 'model_name': 'gpt-3.5-turbo', 'system_fingerprint': None, 'token_usage': {'completion_tokens': 21, 'prompt_tokens': 152, 'total_tokens': 173}}, id='run-ddbf44d5-deab-4720-9a15-f64588be0d8b-0', tool_calls=[{'name': 'tavily_search_results_json', 'args': {'query': 'weather in Los Angeles'}, 'id': 'call_M31MNzdRBbPwEquyR5PxdmN8'}])]}}}, created_at='2024-06-07T14:43:27.933365+00:00', parent_config={'configurable': {'thread_id': '3', 'thread_ts': '1ef24dc4-c688-6085-8000-1f772e3d77dc'}})\n",
      "--\n",
      "StateSnapshot(values={'messages': [HumanMessage(content='Whats the weather in LA?', id='741d3d4e-4dd4-4f8f-88a1-81b4019d297d')]}, next=('llm',), config={'configurable': {'thread_id': '3', 'thread_ts': '1ef24dc4-c688-6085-8000-1f772e3d77dc'}}, metadata={'source': 'loop', 'step': 0, 'writes': None}, created_at='2024-06-07T14:43:26.509683+00:00', parent_config={'configurable': {'thread_id': '3', 'thread_ts': '1ef24dc4-c67b-6c5f-bfff-0bc06bfe4f55'}})\n",
      "--\n",
      "StateSnapshot(values={'messages': []}, next=('__start__',), config={'configurable': {'thread_id': '3', 'thread_ts': '1ef24dc4-c67b-6c5f-bfff-0bc06bfe4f55'}}, metadata={'source': 'input', 'step': -1, 'writes': {'messages': [HumanMessage(content='Whats the weather in LA?')]}}, created_at='2024-06-07T14:43:26.504662+00:00', parent_config=None)\n",
      "--\n"
     ]
    }
   ],
   "source": [
    "states = []\n",
    "for state in abot.graph.get_state_history(thread):\n",
    "    print(state)\n",
    "    print('--')\n",
    "    states.append(state)"
   ]
  },
  {
   "cell_type": "code",
   "execution_count": 26,
   "metadata": {},
   "outputs": [],
   "source": [
    "to_replay = states[-3]"
   ]
  },
  {
   "cell_type": "code",
   "execution_count": 27,
   "metadata": {},
   "outputs": [
    {
     "data": {
      "text/plain": [
       "StateSnapshot(values={'messages': [HumanMessage(content='Whats the weather in LA?', id='741d3d4e-4dd4-4f8f-88a1-81b4019d297d'), AIMessage(content='', additional_kwargs={'tool_calls': [{'function': {'arguments': '{\"query\":\"weather in Los Angeles\"}', 'name': 'tavily_search_results_json'}, 'id': 'call_M31MNzdRBbPwEquyR5PxdmN8', 'type': 'function'}]}, response_metadata={'finish_reason': 'tool_calls', 'logprobs': None, 'model_name': 'gpt-3.5-turbo', 'system_fingerprint': None, 'token_usage': {'completion_tokens': 21, 'prompt_tokens': 152, 'total_tokens': 173}}, id='run-ddbf44d5-deab-4720-9a15-f64588be0d8b-0', tool_calls=[{'name': 'tavily_search_results_json', 'args': {'query': 'weather in Los Angeles'}, 'id': 'call_M31MNzdRBbPwEquyR5PxdmN8'}])]}, next=('action',), config={'configurable': {'thread_id': '3', 'thread_ts': '1ef24dc4-d41b-6d12-8001-c504c60bca48'}}, metadata={'source': 'loop', 'step': 1, 'writes': {'llm': {'messages': [AIMessage(content='', additional_kwargs={'tool_calls': [{'function': {'arguments': '{\"query\":\"weather in Los Angeles\"}', 'name': 'tavily_search_results_json'}, 'id': 'call_M31MNzdRBbPwEquyR5PxdmN8', 'type': 'function'}]}, response_metadata={'finish_reason': 'tool_calls', 'logprobs': None, 'model_name': 'gpt-3.5-turbo', 'system_fingerprint': None, 'token_usage': {'completion_tokens': 21, 'prompt_tokens': 152, 'total_tokens': 173}}, id='run-ddbf44d5-deab-4720-9a15-f64588be0d8b-0', tool_calls=[{'name': 'tavily_search_results_json', 'args': {'query': 'weather in Los Angeles'}, 'id': 'call_M31MNzdRBbPwEquyR5PxdmN8'}])]}}}, created_at='2024-06-07T14:43:27.933365+00:00', parent_config={'configurable': {'thread_id': '3', 'thread_ts': '1ef24dc4-c688-6085-8000-1f772e3d77dc'}})"
      ]
     },
     "execution_count": 27,
     "metadata": {},
     "output_type": "execute_result"
    }
   ],
   "source": [
    "to_replay"
   ]
  },
  {
   "cell_type": "code",
   "execution_count": 28,
   "metadata": {},
   "outputs": [
    {
     "name": "stdout",
     "output_type": "stream",
     "text": [
      "Calling: {'name': 'tavily_search_results_json', 'args': {'query': 'weather in Los Angeles'}, 'id': 'call_M31MNzdRBbPwEquyR5PxdmN8'}\n",
      "Back to the model!\n",
      "{'messages': [ToolMessage(content='[{\\'url\\': \\'https://www.weatherapi.com/\\', \\'content\\': \"{\\'location\\': {\\'name\\': \\'Los Angeles\\', \\'region\\': \\'California\\', \\'country\\': \\'United States of America\\', \\'lat\\': 34.05, \\'lon\\': -118.24, \\'tz_id\\': \\'America/Los_Angeles\\', \\'localtime_epoch\\': 1717772593, \\'localtime\\': \\'2024-06-07 8:03\\'}, \\'current\\': {\\'last_updated_epoch\\': 1717772400, \\'last_updated\\': \\'2024-06-07 08:00\\', \\'temp_c\\': 15.6, \\'temp_f\\': 60.1, \\'is_day\\': 1, \\'condition\\': {\\'text\\': \\'Mist\\', \\'icon\\': \\'//cdn.weatherapi.com/weather/64x64/day/143.png\\', \\'code\\': 1030}, \\'wind_mph\\': 4.3, \\'wind_kph\\': 6.8, \\'wind_degree\\': 170, \\'wind_dir\\': \\'S\\', \\'pressure_mb\\': 1013.0, \\'pressure_in\\': 29.91, \\'precip_mm\\': 0.0, \\'precip_in\\': 0.0, \\'humidity\\': 96, \\'cloud\\': 100, \\'feelslike_c\\': 15.6, \\'feelslike_f\\': 60.1, \\'windchill_c\\': 19.7, \\'windchill_f\\': 67.5, \\'heatindex_c\\': 19.7, \\'heatindex_f\\': 67.5, \\'dewpoint_c\\': 14.0, \\'dewpoint_f\\': 57.2, \\'vis_km\\': 2.8, \\'vis_miles\\': 1.0, \\'uv\\': 5.0, \\'gust_mph\\': 4.6, \\'gust_kph\\': 7.5}}\"}, {\\'url\\': \\'https://www.timeanddate.com/weather/usa/los-angeles/historic?month=5&year=2024\\', \\'content\\': \\'May 2024 Weather in Los Angeles — Graph °F. See Hour-by-hour Forecast for upcoming weather. See weather overview. High & Low Weather Summary for May 2024 ... 70 °F (May 7, 11:53 am) 93% (May 5, 1:07 am) 30.08 \"Hg (May 5, 1:07 am) Low: 55 °F (May 5, 4:53 am) 26% (May 5, 10:53 pm) 29.80 \"Hg (May 8, 5:53 pm) Average: 62 °F: 72%: 29.95 \"Hg ...\\'}]', name='tavily_search_results_json', id='0610ac06-205d-4246-8d93-ac2f44fb625e', tool_call_id='call_M31MNzdRBbPwEquyR5PxdmN8')]}\n",
      "{'messages': [HumanMessage(content='Whats the weather in LA?', id='741d3d4e-4dd4-4f8f-88a1-81b4019d297d'), AIMessage(content='', additional_kwargs={'tool_calls': [{'function': {'arguments': '{\"query\":\"weather in Los Angeles\"}', 'name': 'tavily_search_results_json'}, 'id': 'call_M31MNzdRBbPwEquyR5PxdmN8', 'type': 'function'}]}, response_metadata={'finish_reason': 'tool_calls', 'logprobs': None, 'model_name': 'gpt-3.5-turbo', 'system_fingerprint': None, 'token_usage': {'completion_tokens': 21, 'prompt_tokens': 152, 'total_tokens': 173}}, id='run-ddbf44d5-deab-4720-9a15-f64588be0d8b-0', tool_calls=[{'name': 'tavily_search_results_json', 'args': {'query': 'weather in Los Angeles'}, 'id': 'call_M31MNzdRBbPwEquyR5PxdmN8'}]), ToolMessage(content='[{\\'url\\': \\'https://www.weatherapi.com/\\', \\'content\\': \"{\\'location\\': {\\'name\\': \\'Los Angeles\\', \\'region\\': \\'California\\', \\'country\\': \\'United States of America\\', \\'lat\\': 34.05, \\'lon\\': -118.24, \\'tz_id\\': \\'America/Los_Angeles\\', \\'localtime_epoch\\': 1717772593, \\'localtime\\': \\'2024-06-07 8:03\\'}, \\'current\\': {\\'last_updated_epoch\\': 1717772400, \\'last_updated\\': \\'2024-06-07 08:00\\', \\'temp_c\\': 15.6, \\'temp_f\\': 60.1, \\'is_day\\': 1, \\'condition\\': {\\'text\\': \\'Mist\\', \\'icon\\': \\'//cdn.weatherapi.com/weather/64x64/day/143.png\\', \\'code\\': 1030}, \\'wind_mph\\': 4.3, \\'wind_kph\\': 6.8, \\'wind_degree\\': 170, \\'wind_dir\\': \\'S\\', \\'pressure_mb\\': 1013.0, \\'pressure_in\\': 29.91, \\'precip_mm\\': 0.0, \\'precip_in\\': 0.0, \\'humidity\\': 96, \\'cloud\\': 100, \\'feelslike_c\\': 15.6, \\'feelslike_f\\': 60.1, \\'windchill_c\\': 19.7, \\'windchill_f\\': 67.5, \\'heatindex_c\\': 19.7, \\'heatindex_f\\': 67.5, \\'dewpoint_c\\': 14.0, \\'dewpoint_f\\': 57.2, \\'vis_km\\': 2.8, \\'vis_miles\\': 1.0, \\'uv\\': 5.0, \\'gust_mph\\': 4.6, \\'gust_kph\\': 7.5}}\"}, {\\'url\\': \\'https://www.timeanddate.com/weather/usa/los-angeles/historic?month=5&year=2024\\', \\'content\\': \\'May 2024 Weather in Los Angeles — Graph °F. See Hour-by-hour Forecast for upcoming weather. See weather overview. High & Low Weather Summary for May 2024 ... 70 °F (May 7, 11:53 am) 93% (May 5, 1:07 am) 30.08 \"Hg (May 5, 1:07 am) Low: 55 °F (May 5, 4:53 am) 26% (May 5, 10:53 pm) 29.80 \"Hg (May 8, 5:53 pm) Average: 62 °F: 72%: 29.95 \"Hg ...\\'}]', name='tavily_search_results_json', id='0610ac06-205d-4246-8d93-ac2f44fb625e', tool_call_id='call_M31MNzdRBbPwEquyR5PxdmN8'), AIMessage(content='The current weather in Los Angeles is misty with a temperature of 60.1°F. The humidity is at 96%, and the wind speed is around 6.8 km/h coming from the south.', response_metadata={'token_usage': {'completion_tokens': 44, 'prompt_tokens': 782, 'total_tokens': 826}, 'model_name': 'gpt-3.5-turbo', 'system_fingerprint': None, 'finish_reason': 'stop', 'logprobs': None}, id='run-8c383c2a-2570-4343-9262-f643d0d6c501-0')]}\n",
      "{'messages': [AIMessage(content='The current weather in Los Angeles is misty with a temperature of 60.1°F. The humidity is at 96%, and the wind speed is around 6.8 km/h coming from the south.', response_metadata={'token_usage': {'completion_tokens': 44, 'prompt_tokens': 782, 'total_tokens': 826}, 'model_name': 'gpt-3.5-turbo', 'system_fingerprint': None, 'finish_reason': 'stop', 'logprobs': None}, id='run-8c383c2a-2570-4343-9262-f643d0d6c501-0')]}\n"
     ]
    }
   ],
   "source": [
    "for event in abot.graph.stream(None, to_replay.config):\n",
    "    for k, v in event.items():\n",
    "        print(v)"
   ]
  },
  {
   "cell_type": "markdown",
   "metadata": {},
   "source": [
    "# Go back in time and edit "
   ]
  },
  {
   "cell_type": "code",
   "execution_count": 29,
   "metadata": {},
   "outputs": [
    {
     "data": {
      "text/plain": [
       "StateSnapshot(values={'messages': [HumanMessage(content='Whats the weather in LA?', id='741d3d4e-4dd4-4f8f-88a1-81b4019d297d'), AIMessage(content='', additional_kwargs={'tool_calls': [{'function': {'arguments': '{\"query\":\"weather in Los Angeles\"}', 'name': 'tavily_search_results_json'}, 'id': 'call_M31MNzdRBbPwEquyR5PxdmN8', 'type': 'function'}]}, response_metadata={'finish_reason': 'tool_calls', 'logprobs': None, 'model_name': 'gpt-3.5-turbo', 'system_fingerprint': None, 'token_usage': {'completion_tokens': 21, 'prompt_tokens': 152, 'total_tokens': 173}}, id='run-ddbf44d5-deab-4720-9a15-f64588be0d8b-0', tool_calls=[{'name': 'tavily_search_results_json', 'args': {'query': 'weather in Los Angeles'}, 'id': 'call_M31MNzdRBbPwEquyR5PxdmN8'}])]}, next=('action',), config={'configurable': {'thread_id': '3', 'thread_ts': '1ef24dc4-d41b-6d12-8001-c504c60bca48'}}, metadata={'source': 'loop', 'step': 1, 'writes': {'llm': {'messages': [AIMessage(content='', additional_kwargs={'tool_calls': [{'function': {'arguments': '{\"query\":\"weather in Los Angeles\"}', 'name': 'tavily_search_results_json'}, 'id': 'call_M31MNzdRBbPwEquyR5PxdmN8', 'type': 'function'}]}, response_metadata={'finish_reason': 'tool_calls', 'logprobs': None, 'model_name': 'gpt-3.5-turbo', 'system_fingerprint': None, 'token_usage': {'completion_tokens': 21, 'prompt_tokens': 152, 'total_tokens': 173}}, id='run-ddbf44d5-deab-4720-9a15-f64588be0d8b-0', tool_calls=[{'name': 'tavily_search_results_json', 'args': {'query': 'weather in Los Angeles'}, 'id': 'call_M31MNzdRBbPwEquyR5PxdmN8'}])]}}}, created_at='2024-06-07T14:43:27.933365+00:00', parent_config={'configurable': {'thread_id': '3', 'thread_ts': '1ef24dc4-c688-6085-8000-1f772e3d77dc'}})"
      ]
     },
     "execution_count": 29,
     "metadata": {},
     "output_type": "execute_result"
    }
   ],
   "source": [
    "to_replay"
   ]
  },
  {
   "cell_type": "code",
   "execution_count": 33,
   "metadata": {},
   "outputs": [],
   "source": [
    "_id = to_replay.values['messages'][-1].tool_calls[0]['id']\n",
    "to_replay.values['messages'][-1].tool_calls = [{'name': 'tavily_search_results_json',\n",
    "  'args': {'query': 'current weather in LA, \"accuweather.com\"'},\n",
    "  'id': _id}]"
   ]
  },
  {
   "cell_type": "code",
   "execution_count": 34,
   "metadata": {},
   "outputs": [
    {
     "name": "stdout",
     "output_type": "stream",
     "text": [
      "{'messages': [HumanMessage(content='Whats the weather in LA?', id='741d3d4e-4dd4-4f8f-88a1-81b4019d297d'), AIMessage(content='', additional_kwargs={'tool_calls': [{'function': {'arguments': '{\"query\":\"weather in Los Angeles\"}', 'name': 'tavily_search_results_json'}, 'id': 'call_M31MNzdRBbPwEquyR5PxdmN8', 'type': 'function'}]}, response_metadata={'finish_reason': 'tool_calls', 'logprobs': None, 'model_name': 'gpt-3.5-turbo', 'system_fingerprint': None, 'token_usage': {'completion_tokens': 21, 'prompt_tokens': 152, 'total_tokens': 173}}, id='run-ddbf44d5-deab-4720-9a15-f64588be0d8b-0', tool_calls=[{'name': 'tavily_search_results_json', 'args': {'query': 'current weather in LA, \"accuweather.com\"'}, 'id': 'call_M31MNzdRBbPwEquyR5PxdmN8'}])]}\n"
     ]
    }
   ],
   "source": [
    "branch_state = abot.graph.update_state(to_replay.config, to_replay.values)"
   ]
  },
  {
   "cell_type": "code",
   "execution_count": 35,
   "metadata": {},
   "outputs": [
    {
     "name": "stdout",
     "output_type": "stream",
     "text": [
      "Calling: {'name': 'tavily_search_results_json', 'args': {'query': 'current weather in LA, \"accuweather.com\"'}, 'id': 'call_M31MNzdRBbPwEquyR5PxdmN8'}\n",
      "Back to the model!\n",
      "{'messages': [ToolMessage(content='[{\\'url\\': \\'https://www.weatherapi.com/\\', \\'content\\': \"{\\'location\\': {\\'name\\': \\'Los Angeles\\', \\'region\\': \\'California\\', \\'country\\': \\'United States of America\\', \\'lat\\': 34.05, \\'lon\\': -118.24, \\'tz_id\\': \\'America/Los_Angeles\\', \\'localtime_epoch\\': 1717772785, \\'localtime\\': \\'2024-06-07 8:06\\'}, \\'current\\': {\\'last_updated_epoch\\': 1717772400, \\'last_updated\\': \\'2024-06-07 08:00\\', \\'temp_c\\': 17.2, \\'temp_f\\': 63.0, \\'is_day\\': 1, \\'condition\\': {\\'text\\': \\'Overcast\\', \\'icon\\': \\'//cdn.weatherapi.com/weather/64x64/day/122.png\\', \\'code\\': 1009}, \\'wind_mph\\': 2.2, \\'wind_kph\\': 3.6, \\'wind_degree\\': 194, \\'wind_dir\\': \\'SSW\\', \\'pressure_mb\\': 1013.0, \\'pressure_in\\': 29.91, \\'precip_mm\\': 0.0, \\'precip_in\\': 0.0, \\'humidity\\': 84, \\'cloud\\': 100, \\'feelslike_c\\': 17.2, \\'feelslike_f\\': 63.0, \\'windchill_c\\': 19.7, \\'windchill_f\\': 67.5, \\'heatindex_c\\': 19.7, \\'heatindex_f\\': 67.5, \\'dewpoint_c\\': 14.0, \\'dewpoint_f\\': 57.2, \\'vis_km\\': 16.0, \\'vis_miles\\': 9.0, \\'uv\\': 5.0, \\'gust_mph\\': 4.6, \\'gust_kph\\': 7.5}}\"}, {\\'url\\': \\'https://www.accuweather.com/en/us/los-angeles/90012/current-weather/347625\\', \\'content\\': \\'Current weather in Los Angeles, CA. Check current conditions in Los Angeles, CA with radar, hourly, and more.\\'}]', name='tavily_search_results_json', id='48357016-46b1-47de-b7f8-e6f986a38082', tool_call_id='call_M31MNzdRBbPwEquyR5PxdmN8')]}\n",
      "{'messages': [HumanMessage(content='Whats the weather in LA?', id='741d3d4e-4dd4-4f8f-88a1-81b4019d297d'), AIMessage(content='', additional_kwargs={'tool_calls': [{'function': {'arguments': '{\"query\":\"weather in Los Angeles\"}', 'name': 'tavily_search_results_json'}, 'id': 'call_M31MNzdRBbPwEquyR5PxdmN8', 'type': 'function'}]}, response_metadata={'finish_reason': 'tool_calls', 'logprobs': None, 'model_name': 'gpt-3.5-turbo', 'system_fingerprint': None, 'token_usage': {'completion_tokens': 21, 'prompt_tokens': 152, 'total_tokens': 173}}, id='run-ddbf44d5-deab-4720-9a15-f64588be0d8b-0', tool_calls=[{'name': 'tavily_search_results_json', 'args': {'query': 'current weather in LA, \"accuweather.com\"'}, 'id': 'call_M31MNzdRBbPwEquyR5PxdmN8'}]), ToolMessage(content='[{\\'url\\': \\'https://www.weatherapi.com/\\', \\'content\\': \"{\\'location\\': {\\'name\\': \\'Los Angeles\\', \\'region\\': \\'California\\', \\'country\\': \\'United States of America\\', \\'lat\\': 34.05, \\'lon\\': -118.24, \\'tz_id\\': \\'America/Los_Angeles\\', \\'localtime_epoch\\': 1717772785, \\'localtime\\': \\'2024-06-07 8:06\\'}, \\'current\\': {\\'last_updated_epoch\\': 1717772400, \\'last_updated\\': \\'2024-06-07 08:00\\', \\'temp_c\\': 17.2, \\'temp_f\\': 63.0, \\'is_day\\': 1, \\'condition\\': {\\'text\\': \\'Overcast\\', \\'icon\\': \\'//cdn.weatherapi.com/weather/64x64/day/122.png\\', \\'code\\': 1009}, \\'wind_mph\\': 2.2, \\'wind_kph\\': 3.6, \\'wind_degree\\': 194, \\'wind_dir\\': \\'SSW\\', \\'pressure_mb\\': 1013.0, \\'pressure_in\\': 29.91, \\'precip_mm\\': 0.0, \\'precip_in\\': 0.0, \\'humidity\\': 84, \\'cloud\\': 100, \\'feelslike_c\\': 17.2, \\'feelslike_f\\': 63.0, \\'windchill_c\\': 19.7, \\'windchill_f\\': 67.5, \\'heatindex_c\\': 19.7, \\'heatindex_f\\': 67.5, \\'dewpoint_c\\': 14.0, \\'dewpoint_f\\': 57.2, \\'vis_km\\': 16.0, \\'vis_miles\\': 9.0, \\'uv\\': 5.0, \\'gust_mph\\': 4.6, \\'gust_kph\\': 7.5}}\"}, {\\'url\\': \\'https://www.accuweather.com/en/us/los-angeles/90012/current-weather/347625\\', \\'content\\': \\'Current weather in Los Angeles, CA. Check current conditions in Los Angeles, CA with radar, hourly, and more.\\'}]', name='tavily_search_results_json', id='48357016-46b1-47de-b7f8-e6f986a38082', tool_call_id='call_M31MNzdRBbPwEquyR5PxdmN8'), AIMessage(content='The current weather in Los Angeles is overcast with a temperature of 63.0°F (17.2°C). The wind speed is 3.6 km/h coming from the SSW direction. The humidity is at 84% with a visibility of 9.0 miles.', response_metadata={'token_usage': {'completion_tokens': 59, 'prompt_tokens': 657, 'total_tokens': 716}, 'model_name': 'gpt-3.5-turbo', 'system_fingerprint': None, 'finish_reason': 'stop', 'logprobs': None}, id='run-14062363-0522-44b8-8fbf-d8f0313dc7b6-0')]}\n",
      "{'messages': [AIMessage(content='The current weather in Los Angeles is overcast with a temperature of 63.0°F (17.2°C). The wind speed is 3.6 km/h coming from the SSW direction. The humidity is at 84% with a visibility of 9.0 miles.', response_metadata={'token_usage': {'completion_tokens': 59, 'prompt_tokens': 657, 'total_tokens': 716}, 'model_name': 'gpt-3.5-turbo', 'system_fingerprint': None, 'finish_reason': 'stop', 'logprobs': None}, id='run-14062363-0522-44b8-8fbf-d8f0313dc7b6-0')]}\n"
     ]
    }
   ],
   "source": [
    "for event in abot.graph.stream(None, branch_state):\n",
    "    for k, v in event.items():\n",
    "        if k != \"__end__\":\n",
    "            print(v)"
   ]
  },
  {
   "cell_type": "markdown",
   "metadata": {},
   "source": [
    "# Add message to as state at a given time"
   ]
  },
  {
   "cell_type": "code",
   "execution_count": 36,
   "metadata": {},
   "outputs": [
    {
     "data": {
      "text/plain": [
       "StateSnapshot(values={'messages': [HumanMessage(content='Whats the weather in LA?', id='741d3d4e-4dd4-4f8f-88a1-81b4019d297d'), AIMessage(content='', additional_kwargs={'tool_calls': [{'function': {'arguments': '{\"query\":\"weather in Los Angeles\"}', 'name': 'tavily_search_results_json'}, 'id': 'call_M31MNzdRBbPwEquyR5PxdmN8', 'type': 'function'}]}, response_metadata={'finish_reason': 'tool_calls', 'logprobs': None, 'model_name': 'gpt-3.5-turbo', 'system_fingerprint': None, 'token_usage': {'completion_tokens': 21, 'prompt_tokens': 152, 'total_tokens': 173}}, id='run-ddbf44d5-deab-4720-9a15-f64588be0d8b-0', tool_calls=[{'name': 'tavily_search_results_json', 'args': {'query': 'current weather in LA, \"accuweather.com\"'}, 'id': 'call_M31MNzdRBbPwEquyR5PxdmN8'}])]}, next=('action',), config={'configurable': {'thread_id': '3', 'thread_ts': '1ef24dc4-d41b-6d12-8001-c504c60bca48'}}, metadata={'source': 'loop', 'step': 1, 'writes': {'llm': {'messages': [AIMessage(content='', additional_kwargs={'tool_calls': [{'function': {'arguments': '{\"query\":\"weather in Los Angeles\"}', 'name': 'tavily_search_results_json'}, 'id': 'call_M31MNzdRBbPwEquyR5PxdmN8', 'type': 'function'}]}, response_metadata={'finish_reason': 'tool_calls', 'logprobs': None, 'model_name': 'gpt-3.5-turbo', 'system_fingerprint': None, 'token_usage': {'completion_tokens': 21, 'prompt_tokens': 152, 'total_tokens': 173}}, id='run-ddbf44d5-deab-4720-9a15-f64588be0d8b-0', tool_calls=[{'name': 'tavily_search_results_json', 'args': {'query': 'weather in Los Angeles'}, 'id': 'call_M31MNzdRBbPwEquyR5PxdmN8'}])]}}}, created_at='2024-06-07T14:43:27.933365+00:00', parent_config={'configurable': {'thread_id': '3', 'thread_ts': '1ef24dc4-c688-6085-8000-1f772e3d77dc'}})"
      ]
     },
     "execution_count": 36,
     "metadata": {},
     "output_type": "execute_result"
    }
   ],
   "source": [
    "to_replay"
   ]
  },
  {
   "cell_type": "code",
   "execution_count": 37,
   "metadata": {},
   "outputs": [],
   "source": [
    "_id = to_replay.values['messages'][-1].tool_calls[0]['id']"
   ]
  },
  {
   "cell_type": "code",
   "execution_count": 38,
   "metadata": {},
   "outputs": [],
   "source": [
    "state_update = {\"messages\": [ToolMessage(\n",
    "    tool_call_id=_id,\n",
    "    name=\"tavily_search_results_json\",\n",
    "    content=\"54 degree celcius\",\n",
    ")]}"
   ]
  },
  {
   "cell_type": "code",
   "execution_count": 39,
   "metadata": {},
   "outputs": [],
   "source": [
    "#  Making an update as if we were the action node\n",
    "branch_and_add = abot.graph.update_state(\n",
    "    to_replay.config, \n",
    "    state_update, \n",
    "    as_node=\"action\")"
   ]
  },
  {
   "cell_type": "code",
   "execution_count": 40,
   "metadata": {},
   "outputs": [
    {
     "name": "stdout",
     "output_type": "stream",
     "text": [
      "{'messages': [HumanMessage(content='Whats the weather in LA?', id='741d3d4e-4dd4-4f8f-88a1-81b4019d297d'), AIMessage(content='', additional_kwargs={'tool_calls': [{'function': {'arguments': '{\"query\":\"weather in Los Angeles\"}', 'name': 'tavily_search_results_json'}, 'id': 'call_M31MNzdRBbPwEquyR5PxdmN8', 'type': 'function'}]}, response_metadata={'finish_reason': 'tool_calls', 'logprobs': None, 'model_name': 'gpt-3.5-turbo', 'system_fingerprint': None, 'token_usage': {'completion_tokens': 21, 'prompt_tokens': 152, 'total_tokens': 173}}, id='run-ddbf44d5-deab-4720-9a15-f64588be0d8b-0', tool_calls=[{'name': 'tavily_search_results_json', 'args': {'query': 'weather in Los Angeles'}, 'id': 'call_M31MNzdRBbPwEquyR5PxdmN8'}]), ToolMessage(content='54 degree celcius', name='tavily_search_results_json', id='4f950707-aa6d-4185-ab97-8fdc44f9a751', tool_call_id='call_M31MNzdRBbPwEquyR5PxdmN8'), AIMessage(content='The current temperature in Los Angeles is 54 degrees Celsius.', response_metadata={'token_usage': {'completion_tokens': 13, 'prompt_tokens': 190, 'total_tokens': 203}, 'model_name': 'gpt-3.5-turbo', 'system_fingerprint': None, 'finish_reason': 'stop', 'logprobs': None}, id='run-7c286f89-62b6-4816-882c-419d13e85676-0')]}\n",
      "{'messages': [AIMessage(content='The current temperature in Los Angeles is 54 degrees Celsius.', response_metadata={'token_usage': {'completion_tokens': 13, 'prompt_tokens': 190, 'total_tokens': 203}, 'model_name': 'gpt-3.5-turbo', 'system_fingerprint': None, 'finish_reason': 'stop', 'logprobs': None}, id='run-7c286f89-62b6-4816-882c-419d13e85676-0')]}\n"
     ]
    },
    {
     "ename": "",
     "evalue": "",
     "output_type": "error",
     "traceback": [
      "\u001b[1;31mThe Kernel crashed while executing code in the current cell or a previous cell. \n",
      "\u001b[1;31mPlease review the code in the cell(s) to identify a possible cause of the failure. \n",
      "\u001b[1;31mClick <a href='https://aka.ms/vscodeJupyterKernelCrash'>here</a> for more info. \n",
      "\u001b[1;31mView Jupyter <a href='command:jupyter.viewOutput'>log</a> for further details."
     ]
    }
   ],
   "source": [
    "for event in abot.graph.stream(None, branch_and_add):\n",
    "    for k, v in event.items():\n",
    "        print(v)"
   ]
  },
  {
   "cell_type": "code",
   "execution_count": null,
   "metadata": {},
   "outputs": [],
   "source": []
  },
  {
   "cell_type": "code",
   "execution_count": null,
   "metadata": {},
   "outputs": [],
   "source": []
  }
 ],
 "metadata": {
  "kernelspec": {
   "display_name": ".venv",
   "language": "python",
   "name": "python3"
  },
  "language_info": {
   "codemirror_mode": {
    "name": "ipython",
    "version": 3
   },
   "file_extension": ".py",
   "mimetype": "text/x-python",
   "name": "python",
   "nbconvert_exporter": "python",
   "pygments_lexer": "ipython3",
   "version": "3.12.3"
  }
 },
 "nbformat": 4,
 "nbformat_minor": 2
}
